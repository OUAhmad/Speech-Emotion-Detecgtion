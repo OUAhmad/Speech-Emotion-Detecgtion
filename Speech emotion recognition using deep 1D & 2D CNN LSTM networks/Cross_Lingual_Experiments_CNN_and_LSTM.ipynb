{
  "nbformat": 4,
  "nbformat_minor": 0,
  "metadata": {
    "colab": {
      "name": "Cross-Lingual Experiments_CNN_and_LSTM.ipynb",
      "provenance": [],
      "collapsed_sections": [
        "7n0-hpj24Ykm",
        "isbMlo3Q4jcx",
        "Y66RrywTzODc",
        "BszJmICdtYKl",
        "Nkn7QjRPtYKy",
        "Fx-NubTmtYK3",
        "_slnSqX5tYLD",
        "IxTkouDQhf8H",
        "ZZaI6YRqhf8Y",
        "vofh2EZjhf8h",
        "S7v6RN5Fi7Ky",
        "lPp2JNCDzcG8",
        "1Vm9idJSE6I7",
        "hVwaZqGGFxcn",
        "eKMXDtsUG0re",
        "tFei4I2VHFr-",
        "LJzxS0rbzmMQ",
        "dGBvq6Lu3vc7",
        "GKMjwhmhUboq",
        "Sv4y6HB86CDH",
        "NckpsJkk6RiK",
        "JlZwBAFVP_Vh",
        "SQH0U1ZhUwVy",
        "wBCV081Y-Cfm",
        "xhMnL4juzu1p",
        "DWDwsxVUEKJE",
        "7jshMjhVGxPj",
        "9a71CTQWTbde",
        "DlH4_fOZzycS",
        "TY2cEC7m7kHm",
        "Pq0x4-9l-8TH",
        "KACVNaY6T845",
        "XAubA7ai4r5c"
      ],
      "toc_visible": true
    },
    "kernelspec": {
      "name": "python3",
      "display_name": "Python 3"
    },
    "accelerator": "GPU"
  },
  "cells": [
    {
      "cell_type": "markdown",
      "metadata": {
        "id": "Mknthjns4bdE",
        "colab_type": "text"
      },
      "source": [
        "##Libraries"
      ]
    },
    {
      "cell_type": "code",
      "metadata": {
        "id": "XeQCSGCn8FuA",
        "colab_type": "code",
        "colab": {
          "base_uri": "https://localhost:8080/",
          "height": 34
        },
        "outputId": "92e91d55-5e8f-46fc-d978-8d1f181f24b4"
      },
      "source": [
        "import numpy as np\n",
        "import os\n",
        "import librosa\n",
        "import librosa.display\n",
        "from keras.models import Model,Sequential\n",
        "from keras import optimizers\n",
        "from keras.layers import Input,Conv1D,BatchNormalization,MaxPooling1D,LSTM,Dense,Activation,Layer,Conv2D,MaxPooling2D,Flatten,Reshape\n",
        "from tensorflow.keras import regularizers\n",
        "from keras.regularizers import l2\n",
        "from keras.utils import to_categorical\n",
        "import keras.backend as K\n",
        "import argparse\n",
        "from keras.callbacks import EarlyStopping\n",
        "from keras.callbacks import ModelCheckpoint\n",
        "from keras.models import load_model\n",
        "import matplotlib.pyplot as plt\n",
        "from sklearn.metrics import classification_report, confusion_matrix"
      ],
      "execution_count": null,
      "outputs": [
        {
          "output_type": "stream",
          "text": [
            "Using TensorFlow backend.\n"
          ],
          "name": "stderr"
        }
      ]
    },
    {
      "cell_type": "markdown",
      "metadata": {
        "id": "7n0-hpj24Ykm",
        "colab_type": "text"
      },
      "source": [
        "##Data Loading"
      ]
    },
    {
      "cell_type": "code",
      "metadata": {
        "id": "EaV5lrBN5lTd",
        "colab_type": "code",
        "colab": {
          "base_uri": "https://localhost:8080/",
          "height": 122
        },
        "outputId": "8245c7d5-6545-40c0-b8ab-70b0943f32f6"
      },
      "source": [
        "from google.colab import drive\n",
        "drive.mount('/content/drive')"
      ],
      "execution_count": null,
      "outputs": [
        {
          "output_type": "stream",
          "text": [
            "Go to this URL in a browser: https://accounts.google.com/o/oauth2/auth?client_id=947318989803-6bn6qk8qdgf4n4g3pfee6491hc0brc4i.apps.googleusercontent.com&redirect_uri=urn%3aietf%3awg%3aoauth%3a2.0%3aoob&response_type=code&scope=email%20https%3a%2f%2fwww.googleapis.com%2fauth%2fdocs.test%20https%3a%2f%2fwww.googleapis.com%2fauth%2fdrive%20https%3a%2f%2fwww.googleapis.com%2fauth%2fdrive.photos.readonly%20https%3a%2f%2fwww.googleapis.com%2fauth%2fpeopleapi.readonly\n",
            "\n",
            "Enter your authorization code:\n",
            "··········\n",
            "Mounted at /content/drive\n"
          ],
          "name": "stdout"
        }
      ]
    },
    {
      "cell_type": "code",
      "metadata": {
        "id": "xks0522e5r0q",
        "colab_type": "code",
        "colab": {}
      },
      "source": [
        "classes = np.array(['W','L','E','A','F','T','S','N']) # 8 classes\n",
        "\n",
        "Seconds_per_sample = 1 # The sample size in seconds\n",
        "Padded_sample = True # Whether to take samples which are less than the required length\n",
        "fs = 16000 # Sampling Frequency of Input data\n",
        "seg_len = int((Seconds_per_sample)*16000) # signal split length (in samples) in time domain\n",
        "seg_ov = int(seg_len*0.5) # 50% overlap"
      ],
      "execution_count": null,
      "outputs": []
    },
    {
      "cell_type": "code",
      "metadata": {
        "id": "eaXZQDRWsK2Y",
        "colab_type": "code",
        "colab": {}
      },
      "source": [
        "# use raw time-domain speech signal as input to cnn for SER\n",
        "\n",
        "def normalize(s):\n",
        "# RMS normalization\n",
        "\tnew_s = s/np.sqrt(np.sum(np.square((np.abs(s))))/len(s))\n",
        "\treturn new_s\n",
        "\n",
        "def countclasses(fnames):\n",
        "\tdict = {classes[0]:0,classes[1]:0,classes[2]:0,classes[3]:0,classes[4]:0,classes[5]:0,classes[6]:0,classes[7]:0}\n",
        "\tfor name in fnames:\n",
        "\t\tif name[place] in classes:\n",
        "\t\t\tdict[name[place]]+=1\n",
        "\treturn dict\n",
        "\n",
        "def data1d(path):\n",
        "\n",
        "\tfnames = os.listdir(datapath)\n",
        "\tdict = countclasses(fnames)\n",
        "\tprint('Total Data',dict)\n",
        "\tnum_cl = len(classes)\n",
        "\ttrain_dict = {classes[0]:0,classes[1]:0,classes[2]:0,classes[3]:0,classes[4]:0,classes[5]:0,classes[6]:0,classes[7]:0}\n",
        "\ttest_dict = {classes[0]:0,classes[1]:0,classes[2]:0,classes[3]:0,classes[4]:0,classes[5]:0,classes[6]:0,classes[7]:0}\n",
        "\tval_dict = {classes[0]:0,classes[1]:0,classes[2]:0,classes[3]:0,classes[4]:0,classes[5]:0,classes[6]:0,classes[7]:0}\n",
        "\n",
        "\tfor i in range(num_cl):\n",
        "\t\tcname =  list(dict.keys())[i]\n",
        "\t\tcnum = dict[cname]\n",
        "\t\tt = round(0.8*cnum)\n",
        "\t\ttest_dict[cname] = int(cnum - t)\n",
        "\t\tval_dict[cname] = int(round(0.2*t))\n",
        "\t\ttrain_dict[cname] = int(t - val_dict[cname])\n",
        "\t\tprint('Class:',cname,'train:',train_dict[cname],'val:',val_dict[cname],'test:',test_dict[cname])\n",
        "\t\t\n",
        "\tx_train = []\n",
        "\ty_train = []\n",
        "\tx_test = []\n",
        "\ty_test = []\n",
        "\tx_val = []\n",
        "\ty_val = []\n",
        "\n",
        "\tcount = {classes[0]:0,classes[1]:0,classes[2]:0,classes[3]:0,classes[4]:0,classes[5]:0,classes[6]:0,classes[7]:0}\n",
        "\tloop = 1\n",
        "\tfor name in fnames:\n",
        "\t\t\n",
        "\t\tif name[place] in classes:\n",
        "\t\t\tsig,fs = librosa.load(datapath+'/'+name, sr=16000)\n",
        "\t\t\tif loop > 0:\n",
        "\t\t\t\t\tloop = -1\n",
        "\t\t\t\t\tprint(name)\n",
        "\t\t\t\t\tprint(sig.shape)\n",
        "\t\t\t\n",
        "\t\t\t# normalize signal\n",
        "\t\t\tdata = normalize(sig)\n",
        "\t\t\tif(len(data) < seg_len):\n",
        "\t\t\t\tpad_len = int(seg_len - len(data))\n",
        "\t\t\t\tpad_rem = int(pad_len % 2)\n",
        "\t\t\t\tpad_len /= 2\n",
        "\t\t\t\tsignal = np.pad(data,(int(pad_len), int(pad_len+pad_rem)),'constant',constant_values=0)\n",
        "\t\t\telif(len(data) > seg_len):\n",
        "\t\t\t\tsignal = []\n",
        "\t\t\t\tend = seg_len\n",
        "\t\t\t\tst = 0\n",
        "\t\t\t\twhile(end < len(data)):\n",
        "\t\t\t\t\tsignal.append(data[st:end])\n",
        "\t\t\t\t\tst = st + seg_ov\n",
        "\t\t\t\t\tend = st + seg_len\n",
        "\t\t\t\tsignal = np.array(signal)\n",
        "\t\t\t\tif(end >= len(data)):\n",
        "\t\t\t\t\tnum_zeros = int(end-len(data))\n",
        "\t\t\t\t\tif(num_zeros > 0):\n",
        "\t\t\t\t\t\tn1 = np.array(data[st:end])\n",
        "\t\t\t\t\t\tn2 = np.zeros([num_zeros])\n",
        "\t\t\t\t\t\ts = np.concatenate([n1,n2],0)\n",
        "\t\t\t\t\telse:\n",
        "\t\t\t\t\t\ts = np.array(data[int(st):int(end)])\n",
        "\t\t\t\tsignal = np.vstack([signal,s])\n",
        "\t\t\telse:\n",
        "\t\t\t\tsignal = data\n",
        "\n",
        "\t\t\tif(count[name[place]] < train_dict[name[place]]):\n",
        "\t\t\t\tif(signal.ndim>1):\n",
        "\t\t\t\t\tfor i in range(signal.shape[0]):\t\t\t\t\t\t\n",
        "\t\t\t\t\t\tx_train.append(signal[i])\n",
        "\t\t\t\t\t\ty_train.append(name[place])\n",
        "\t\t\t\telse:\n",
        "\t\t\t\t\tx_train.append(signal)\n",
        "\t\t\t\t\ty_train.append(name[place])\n",
        "\t\t\telse:\n",
        "\t\t\t\tif((count[name[place]]-train_dict[name[place]]) < val_dict[name[place]]):\n",
        "\t\t\t\t\tif(signal.ndim>1):\n",
        "\t\t\t\t\t\tfor i in range(signal.shape[0]):\t\t\t\t\t\t\t\n",
        "\t\t\t\t\t\t\tx_val.append(signal[i])\n",
        "\t\t\t\t\t\t\ty_val.append(name[place])\n",
        "\t\t\t\t\telse:\n",
        "\t\t\t\t\t\tx_val.append(signal)\n",
        "\t\t\t\t\t\ty_val.append(name[place])\n",
        "\t\t\t\telse:\n",
        "\t\t\t\t\tif(signal.ndim>1):\n",
        "\t\t\t\t\t\tfor i in range(signal.shape[0]):\n",
        "\t\t\t\t\t\t\tx_test.append(signal[i])\n",
        "\t\t\t\t\t\t\ty_test.append(name[place])\n",
        "\t\t\t\t\telse:\n",
        "\t\t\t\t\t\tx_test.append(signal)\n",
        "\t\t\t\t\t\ty_test.append(name[place])\n",
        "\t\t\tcount[name[place]]+=1\n",
        "\treturn np.float32(x_train),y_train,np.float32(x_test),y_test,np.float32(x_val),y_val\n",
        "\n",
        "def string2num(y):\n",
        "\ty1 = []\n",
        "\tfor i in y:\n",
        "\t\tif(i == classes[0]):\n",
        "\t\t\ty1.append(0)\n",
        "\t\telif(i == classes[1]):\n",
        "\t\t\ty1.append(1)\n",
        "\t\telif(i == classes[2]):\n",
        "\t\t\ty1.append(2)\n",
        "\t\telif(i == classes[3]):\n",
        "\t\t\ty1.append(3)\n",
        "\t\telif(i == classes[4]):\n",
        "\t\t\ty1.append(4)\n",
        "\t\telif(i == classes[5]):\n",
        "\t\t\ty1.append(5)\n",
        "\t\telif(i == classes[6]):\n",
        "\t\t\ty1.append(6)\n",
        "\t\telse:\n",
        "\t\t\ty1.append(7)\n",
        "\ty1 = np.float32(np.array(y1))\n",
        "\treturn y1\n",
        "\n",
        "def load_data():\n",
        "\tx_tr,y_tr,x_t,y_t,x_v,y_v = data1d(datapath)\n",
        "\ty_tr = string2num(y_tr)\n",
        "\ty_t = string2num(y_t)\n",
        "\ty_v = string2num(y_v)\n",
        "\treturn x_tr, y_tr, x_t, y_t, x_v, y_v"
      ],
      "execution_count": null,
      "outputs": []
    },
    {
      "cell_type": "markdown",
      "metadata": {
        "id": "FxzULITJHjgK",
        "colab_type": "text"
      },
      "source": [
        "## Dataset Selection"
      ]
    },
    {
      "cell_type": "code",
      "metadata": {
        "id": "SeYCpyGs9DcB",
        "colab_type": "code",
        "colab": {}
      },
      "source": [
        "# !mkdir Emodb_dataset\n",
        "# !unzip \"/content/drive//My Drive/Emotion Detection/EmoDB.zip\" -d Emodb_dataset;\n",
        "datapath = 'Emodb_dataset/wav'\n",
        "place = 5\n",
        "xdg_tr,ydg_tr,xdg_t,ydg_t,xdg_val,ydg_val = load_data()"
      ],
      "execution_count": null,
      "outputs": []
    },
    {
      "cell_type": "code",
      "metadata": {
        "id": "0j3AIrlD4dy6",
        "colab_type": "code",
        "colab": {
          "base_uri": "https://localhost:8080/",
          "height": 204
        },
        "outputId": "9815d73d-6cea-4efb-8aad-2201c171b2d3"
      },
      "source": [
        "# !mkdir Urdu_dataset\n",
        "# !unzip \"/content/drive/My Drive/Emotion Detection/Urdu Dataset.zip\" -d Urdu_dataset;\n",
        "datapath = 'Urdu_dataset/Urdu Dataset'\n",
        "place = 0\n",
        "xdu_tr,ydu_tr,xdu_t,ydu_t,xdu_val,ydu_val = load_data()"
      ],
      "execution_count": null,
      "outputs": [
        {
          "output_type": "stream",
          "text": [
            "Total Data {'W': 100, 'L': 0, 'E': 0, 'A': 0, 'F': 100, 'T': 100, 'S': 0, 'N': 100}\n",
            "Class: W train: 64 val: 16 test: 20\n",
            "Class: L train: 0 val: 0 test: 0\n",
            "Class: E train: 0 val: 0 test: 0\n",
            "Class: A train: 0 val: 0 test: 0\n",
            "Class: F train: 64 val: 16 test: 20\n",
            "Class: T train: 64 val: 16 test: 20\n",
            "Class: S train: 0 val: 0 test: 0\n",
            "Class: N train: 64 val: 16 test: 20\n",
            "T76.wav\n",
            "(48057,)\n"
          ],
          "name": "stdout"
        }
      ]
    },
    {
      "cell_type": "code",
      "metadata": {
        "id": "E9c08v6vHJEq",
        "colab_type": "code",
        "colab": {
          "base_uri": "https://localhost:8080/",
          "height": 204
        },
        "outputId": "de0dc12a-7feb-4300-b5bd-c29ae65093a4"
      },
      "source": [
        "# !mkdir Emovo_dataset\n",
        "# !unzip \"/content/drive//My Drive/Emotion Detection/EMOVO_Dataset.zip\" -d Emovo_dataset;\n",
        "datapath = 'Emovo_dataset/EMOVO_Dataset'\n",
        "place = 3\n",
        "xdi_tr,ydi_tr,xdi_t,ydi_t,xdi_val,ydi_val = load_data()"
      ],
      "execution_count": null,
      "outputs": [
        {
          "output_type": "stream",
          "text": [
            "Total Data {'W': 84, 'L': 84, 'E': 84, 'A': 84, 'F': 84, 'T': 84, 'S': 0, 'N': 84}\n",
            "Class: W train: 54 val: 13 test: 17\n",
            "Class: L train: 54 val: 13 test: 17\n",
            "Class: E train: 54 val: 13 test: 17\n",
            "Class: A train: 54 val: 13 test: 17\n",
            "Class: F train: 54 val: 13 test: 17\n",
            "Class: T train: 54 val: 13 test: 17\n",
            "Class: S train: 0 val: 0 test: 0\n",
            "Class: N train: 54 val: 13 test: 17\n",
            "f1_A023.wav\n",
            "(43691,)\n"
          ],
          "name": "stdout"
        }
      ]
    },
    {
      "cell_type": "code",
      "metadata": {
        "id": "t3XhwVHlvQnO",
        "colab_type": "code",
        "colab": {
          "base_uri": "https://localhost:8080/",
          "height": 119
        },
        "outputId": "09a7dff5-7ec2-40f1-ad20-8e05ed958adb"
      },
      "source": [
        "def appending(data = 'g'):\n",
        "  if data == 'g':\n",
        "    xd_tr,yd_tr,xd_t,yd_t,xd_val,yd_val = xdg_tr,ydg_tr,xdg_t,ydg_t,xdg_val,ydg_val\n",
        "  elif data == 'u':\n",
        "    xd_tr,yd_tr,xd_t,yd_t,xd_val,yd_val = xdu_tr,ydu_tr,xdu_t,ydu_t,xdu_val,ydu_val\n",
        "  elif data == 'i':\n",
        "    xd_tr,yd_tr,xd_t,yd_t,xd_val,yd_val = xdi_tr,ydi_tr,xdi_t,ydi_t,xdi_val,ydi_val\n",
        "  elif data == 'gu':\n",
        "    xd_tr,yd_tr,xd_t,yd_t,xd_val,yd_val = xdg_tr,ydg_tr,xdg_t,ydg_t,xdg_val,ydg_val\n",
        "    xd_tr,yd_tr,xd_t,yd_t,xd_val,yd_val = np.append(xd_tr,xdu_tr,axis=0),np.append(yd_tr,ydu_tr,axis=0),np.append(xd_t,xdu_t,axis=0),np.append(yd_t,ydu_t,axis=0),np.append(xd_val,xdu_val,axis=0),np.append(yd_val,ydu_val,axis=0)\n",
        "  elif data == 'gi':\n",
        "    xd_tr,yd_tr,xd_t,yd_t,xd_val,yd_val = xdg_tr,ydg_tr,xdg_t,ydg_t,xdg_val,ydg_val\n",
        "    xd_tr,yd_tr,xd_t,yd_t,xd_val,yd_val = np.append(xd_tr,xdi_tr,axis=0),np.append(yd_tr,ydi_tr,axis=0),np.append(xd_t,xdi_t,axis=0),np.append(yd_t,ydi_t,axis=0),np.append(xd_val,xdi_val,axis=0),np.append(yd_val,ydi_val,axis=0)\n",
        "  elif data == 'iu':\n",
        "    xd_tr,yd_tr,xd_t,yd_t,xd_val,yd_val = xdi_tr,ydi_tr,xdi_t,ydi_t,xdi_val,ydi_val\n",
        "    xd_tr,yd_tr,xd_t,yd_t,xd_val,yd_val = np.append(xd_tr,xdu_tr,axis=0),np.append(yd_tr,ydu_tr,axis=0),np.append(xd_t,xdu_t,axis=0),np.append(yd_t,ydu_t,axis=0),np.append(xd_val,xdu_val,axis=0),np.append(yd_val,ydu_val,axis=0)\n",
        "  else:\n",
        "    xd_tr,yd_tr,xd_t,yd_t,xd_val,yd_val = xdg_tr,ydg_tr,xdg_t,ydg_t,xdg_val,ydg_val\n",
        "    xd_tr,yd_tr,xd_t,yd_t,xd_val,yd_val = np.append(xd_tr,xdu_tr,axis=0),np.append(yd_tr,ydu_tr,axis=0),np.append(xd_t,xdu_t,axis=0),np.append(yd_t,ydu_t,axis=0),np.append(xd_val,xdu_val,axis=0),np.append(yd_val,ydu_val,axis=0)\n",
        "    xd_tr,yd_tr,xd_t,yd_t,xd_val,yd_val = np.append(xd_tr,xdi_tr,axis=0),np.append(yd_tr,ydi_tr,axis=0),np.append(xd_t,xdi_t,axis=0),np.append(yd_t,ydi_t,axis=0),np.append(xd_val,xdi_val,axis=0),np.append(yd_val,ydi_val,axis=0)\n",
        "  return xd_tr,yd_tr,xd_t,yd_t,xd_val,yd_val\n",
        "\n",
        "xd_tr,yd_tr,xd_t,yd_t,xd_val,yd_val = appending(data = 'iu');\n",
        "print(xd_tr.shape)\n",
        "print(xd_val.shape)\n",
        "print(xd_t.shape)\n",
        "print(yd_tr.shape)\n",
        "print(yd_val.shape)\n",
        "print(yd_t.shape)\n"
      ],
      "execution_count": null,
      "outputs": [
        {
          "output_type": "stream",
          "text": [
            "(3332, 16000)\n",
            "(774, 16000)\n",
            "(1069, 16000)\n",
            "(3332,)\n",
            "(774,)\n",
            "(1069,)\n"
          ],
          "name": "stdout"
        }
      ]
    },
    {
      "cell_type": "markdown",
      "metadata": {
        "id": "isbMlo3Q4jcx",
        "colab_type": "text"
      },
      "source": [
        "## 1D CNN and LSTM"
      ]
    },
    {
      "cell_type": "code",
      "metadata": {
        "id": "l-LvZXPLstop",
        "colab_type": "code",
        "colab": {}
      },
      "source": [
        "# 1D cnn for SER\n",
        "\n",
        "def emo1d(input_shape, num_classes,args):\n",
        "\t\n",
        "\tmodel = Sequential(name='Emo1D')\n",
        "\t\n",
        "\t# LFLB1\n",
        "\tmodel.add(Conv1D(filters = 64,kernel_size = (3),strides=1,padding='same',data_format='channels_last',input_shape=input_shape))\t\n",
        "\tmodel.add(BatchNormalization())\n",
        "\tmodel.add(Activation('elu'))\n",
        "\tmodel.add(MaxPooling1D(pool_size = 4, strides = 4))\n",
        "\n",
        "\t#LFLB2\n",
        "\tmodel.add(Conv1D(filters=64, kernel_size = 3, strides=1,padding='same'))\n",
        "\tmodel.add(BatchNormalization())\n",
        "\tmodel.add(Activation('elu'))\n",
        "\tmodel.add(MaxPooling1D(pool_size = 4, strides = 4))\n",
        "\n",
        "\t#LFLB3\n",
        "\tmodel.add(Conv1D(filters=128, kernel_size = 3, strides=1,padding='same'))\n",
        "\tmodel.add(BatchNormalization())\n",
        "\tmodel.add(Activation('elu'))\n",
        "\tmodel.add(MaxPooling1D(pool_size = 4, strides = 4))\n",
        "\n",
        "\t#LFLB4\n",
        "\tmodel.add(Conv1D(filters=128, kernel_size = 3, strides=1,padding='same'))\n",
        "\tmodel.add(BatchNormalization())\n",
        "\tmodel.add(Activation('elu'))\n",
        "\tmodel.add(MaxPooling1D(pool_size = 4, strides = 4))\n",
        "\n",
        "\t#LSTM\n",
        "\tmodel.add(LSTM(units=args.num_fc)) \n",
        "\t\t\n",
        "\t#FC\n",
        "\tmodel.add(Dense(units=100,activation='relu'))\n",
        "\n",
        "\tmodel.add(Dense(units=num_classes,activation='softmax'))\n",
        "\n",
        "\t#Model compilation\t\n",
        "\topt = optimizers.SGD(lr = args.learning_rate, decay=args.decay, momentum=args.momentum, nesterov=True)\n",
        "\tmodel.compile(optimizer=opt,loss='categorical_crossentropy',metrics=['categorical_accuracy'])\n",
        "\t# model.compile(optimizer=opt,loss='categorical_crossentropy',metrics=['accuracy'])\n",
        "\t\n",
        "\treturn model\n",
        "\n",
        "def train(model,x_tr,y_tr,x_val,y_val,args):\n",
        "\t\n",
        "\tes = EarlyStopping(monitor='val_loss', mode='min', verbose=1, patience=50)\n",
        "\tmc = ModelCheckpoint('best_model_1D_CNN.h5', monitor='val_categorical_accuracy', mode='max', verbose=1, save_best_only=True)\n",
        "\thistory = model.fit(x_tr,y_tr,epochs=args.num_epochs,batch_size=args.batch_size,validation_data=(x_val,y_val),callbacks=[es, mc])\n",
        "\treturn model\n",
        "\n",
        "def test(model,x_t,y_t):\n",
        "\n",
        "\tsaved_model = load_model('best_model_1D_CNN.h5')\n",
        "\tscore = saved_model.evaluate(x_t,y_t,batch_size=20)\n",
        "\tprint(score)\n",
        "\treturn score\n",
        "\n",
        "def loadData1d(x_tr,y_tr,x_t,y_t,x_val,y_val):\n",
        "\n",
        "\tx_tr = x_tr.reshape(-1,x_tr.shape[1],1)\n",
        "\tx_t = x_t.reshape(-1,x_t.shape[1],1)\n",
        "\tx_val = x_val.reshape(-1,x_val.shape[1],1)\n",
        "\ty_tr = to_categorical(y_tr)\n",
        "\ty_t = to_categorical(y_t)\n",
        "\ty_val = to_categorical(y_val)\n",
        "\treturn x_tr,y_tr,x_t,y_t,x_val,y_val\n"
      ],
      "execution_count": null,
      "outputs": []
    },
    {
      "cell_type": "code",
      "metadata": {
        "id": "Ba9kUr0u_iW7",
        "colab_type": "code",
        "colab": {
          "base_uri": "https://localhost:8080/",
          "height": 1000
        },
        "outputId": "d443a0bc-5308-4e51-ba45-b1a4539e86ed"
      },
      "source": [
        "class arguments(object):        \n",
        "\t\tdef __init__(self):\n",
        "\t\t\t\tself.num_fc = 256\n",
        "\t\t\t\tself.batch_size = 300\n",
        "\t\t\t\tself.num_epochs = 60 #best model will be saved before number of epochs reach this value\n",
        "\t\t\t\tself.learning_rate = 0.1\n",
        "\t\t\t\tself.decay = 1e-6\n",
        "\t\t\t\tself.momentum = 0.9\n",
        "\n",
        "#load data\t\n",
        "x_tr,y_tr,x_t,y_t,x_val,y_val = loadData1d(xd_tr,yd_tr,xd_t,yd_t,xd_val,yd_val)\t\n",
        "\n",
        "print(\"Training Set Input Shape: \", x_tr.shape)\n",
        "print(\"Validation Set Input Shape: \",x_val.shape)\n",
        "print(\"Testing Set Input Shape: \",x_t.shape)\n",
        "print(\"Training Set Output Shape: \",y_tr.shape)\n",
        "print(\"Validation Set Output Shape: \",y_val.shape)\n",
        "print(\"Testing Set Output Shape: \",y_t.shape)\n",
        "\n",
        "args = arguments()\n",
        "\n",
        "#define model\n",
        "model = emo1d(input_shape=x_tr.shape[1:],num_classes=len(classes),args=args)\n",
        "# model.summary()\n",
        "\n",
        "#train model\n",
        "model = train(model,x_tr,y_tr,x_val,y_val,args=args)\n",
        "\n",
        "#test model\n",
        "score = test(model,x_t,y_t)"
      ],
      "execution_count": null,
      "outputs": [
        {
          "output_type": "stream",
          "text": [
            "Training Set Input Shape:  (3332, 16000, 1)\n",
            "Validation Set Input Shape:  (774, 16000, 1)\n",
            "Testing Set Input Shape:  (1069, 16000, 1)\n",
            "Training Set Output Shape:  (3332, 8)\n",
            "Validation Set Output Shape:  (774, 8)\n",
            "Testing Set Output Shape:  (1069, 8)\n",
            "Train on 3332 samples, validate on 774 samples\n",
            "Epoch 1/60\n",
            "3332/3332 [==============================] - 14s 4ms/step - loss: 1.8623 - categorical_accuracy: 0.2422 - val_loss: 1.9411 - val_categorical_accuracy: 0.2274\n",
            "\n",
            "Epoch 00001: val_categorical_accuracy improved from -inf to 0.22739, saving model to best_model_1D_CNN.h5\n",
            "Epoch 2/60\n",
            "3332/3332 [==============================] - 13s 4ms/step - loss: 1.6942 - categorical_accuracy: 0.3223 - val_loss: 1.9032 - val_categorical_accuracy: 0.2080\n",
            "\n",
            "Epoch 00002: val_categorical_accuracy did not improve from 0.22739\n",
            "Epoch 3/60\n",
            "3332/3332 [==============================] - 13s 4ms/step - loss: 1.5278 - categorical_accuracy: 0.3923 - val_loss: 2.5750 - val_categorical_accuracy: 0.2287\n",
            "\n",
            "Epoch 00003: val_categorical_accuracy improved from 0.22739 to 0.22868, saving model to best_model_1D_CNN.h5\n",
            "Epoch 4/60\n",
            "3332/3332 [==============================] - 13s 4ms/step - loss: 1.6307 - categorical_accuracy: 0.3574 - val_loss: 2.4642 - val_categorical_accuracy: 0.2222\n",
            "\n",
            "Epoch 00004: val_categorical_accuracy did not improve from 0.22868\n",
            "Epoch 5/60\n",
            "3332/3332 [==============================] - 13s 4ms/step - loss: 1.4833 - categorical_accuracy: 0.4190 - val_loss: 3.7158 - val_categorical_accuracy: 0.1770\n",
            "\n",
            "Epoch 00005: val_categorical_accuracy did not improve from 0.22868\n",
            "Epoch 6/60\n",
            "3332/3332 [==============================] - 13s 4ms/step - loss: 1.4579 - categorical_accuracy: 0.4169 - val_loss: 3.4902 - val_categorical_accuracy: 0.2080\n",
            "\n",
            "Epoch 00006: val_categorical_accuracy did not improve from 0.22868\n",
            "Epoch 7/60\n",
            "3332/3332 [==============================] - 13s 4ms/step - loss: 1.3946 - categorical_accuracy: 0.4538 - val_loss: 2.8800 - val_categorical_accuracy: 0.2171\n",
            "\n",
            "Epoch 00007: val_categorical_accuracy did not improve from 0.22868\n",
            "Epoch 8/60\n",
            "3332/3332 [==============================] - 13s 4ms/step - loss: 1.2961 - categorical_accuracy: 0.4982 - val_loss: 2.4551 - val_categorical_accuracy: 0.2442\n",
            "\n",
            "Epoch 00008: val_categorical_accuracy improved from 0.22868 to 0.24419, saving model to best_model_1D_CNN.h5\n",
            "Epoch 9/60\n",
            "3332/3332 [==============================] - 13s 4ms/step - loss: 1.2710 - categorical_accuracy: 0.4997 - val_loss: 2.0534 - val_categorical_accuracy: 0.3411\n",
            "\n",
            "Epoch 00009: val_categorical_accuracy improved from 0.24419 to 0.34109, saving model to best_model_1D_CNN.h5\n",
            "Epoch 10/60\n",
            "3332/3332 [==============================] - 13s 4ms/step - loss: 1.1251 - categorical_accuracy: 0.5729 - val_loss: 2.4559 - val_categorical_accuracy: 0.2248\n",
            "\n",
            "Epoch 00010: val_categorical_accuracy did not improve from 0.34109\n",
            "Epoch 11/60\n",
            "3332/3332 [==============================] - 13s 4ms/step - loss: 1.3300 - categorical_accuracy: 0.4883 - val_loss: 3.3419 - val_categorical_accuracy: 0.2726\n",
            "\n",
            "Epoch 00011: val_categorical_accuracy did not improve from 0.34109\n",
            "Epoch 12/60\n",
            "3332/3332 [==============================] - 13s 4ms/step - loss: 1.1469 - categorical_accuracy: 0.5597 - val_loss: 1.8548 - val_categorical_accuracy: 0.4393\n",
            "\n",
            "Epoch 00012: val_categorical_accuracy improved from 0.34109 to 0.43928, saving model to best_model_1D_CNN.h5\n",
            "Epoch 13/60\n",
            "3332/3332 [==============================] - 13s 4ms/step - loss: 1.0877 - categorical_accuracy: 0.5915 - val_loss: 2.6503 - val_categorical_accuracy: 0.2972\n",
            "\n",
            "Epoch 00013: val_categorical_accuracy did not improve from 0.43928\n",
            "Epoch 14/60\n",
            "3332/3332 [==============================] - 13s 4ms/step - loss: 1.0318 - categorical_accuracy: 0.5975 - val_loss: 1.9629 - val_categorical_accuracy: 0.3669\n",
            "\n",
            "Epoch 00014: val_categorical_accuracy did not improve from 0.43928\n",
            "Epoch 15/60\n",
            "3332/3332 [==============================] - 13s 4ms/step - loss: 1.1182 - categorical_accuracy: 0.5699 - val_loss: 2.7897 - val_categorical_accuracy: 0.3127\n",
            "\n",
            "Epoch 00015: val_categorical_accuracy did not improve from 0.43928\n",
            "Epoch 16/60\n",
            "3332/3332 [==============================] - 13s 4ms/step - loss: 0.9637 - categorical_accuracy: 0.6285 - val_loss: 2.1886 - val_categorical_accuracy: 0.3928\n",
            "\n",
            "Epoch 00016: val_categorical_accuracy did not improve from 0.43928\n",
            "Epoch 17/60\n",
            "3332/3332 [==============================] - 13s 4ms/step - loss: 0.9865 - categorical_accuracy: 0.6239 - val_loss: 2.3188 - val_categorical_accuracy: 0.3346\n",
            "\n",
            "Epoch 00017: val_categorical_accuracy did not improve from 0.43928\n",
            "Epoch 18/60\n",
            "3332/3332 [==============================] - 13s 4ms/step - loss: 0.9476 - categorical_accuracy: 0.6330 - val_loss: 1.6104 - val_categorical_accuracy: 0.4354\n",
            "\n",
            "Epoch 00018: val_categorical_accuracy did not improve from 0.43928\n",
            "Epoch 19/60\n",
            "3332/3332 [==============================] - 13s 4ms/step - loss: 0.8749 - categorical_accuracy: 0.6636 - val_loss: 1.6461 - val_categorical_accuracy: 0.4858\n",
            "\n",
            "Epoch 00019: val_categorical_accuracy improved from 0.43928 to 0.48579, saving model to best_model_1D_CNN.h5\n",
            "Epoch 20/60\n",
            "3332/3332 [==============================] - 13s 4ms/step - loss: 0.9020 - categorical_accuracy: 0.6600 - val_loss: 1.9259 - val_categorical_accuracy: 0.3979\n",
            "\n",
            "Epoch 00020: val_categorical_accuracy did not improve from 0.48579\n",
            "Epoch 21/60\n",
            "3332/3332 [==============================] - 13s 4ms/step - loss: 0.8869 - categorical_accuracy: 0.6651 - val_loss: 2.0056 - val_categorical_accuracy: 0.4354\n",
            "\n",
            "Epoch 00021: val_categorical_accuracy did not improve from 0.48579\n",
            "Epoch 22/60\n",
            "3332/3332 [==============================] - 13s 4ms/step - loss: 0.9085 - categorical_accuracy: 0.6672 - val_loss: 2.7648 - val_categorical_accuracy: 0.2894\n",
            "\n",
            "Epoch 00022: val_categorical_accuracy did not improve from 0.48579\n",
            "Epoch 23/60\n",
            "3332/3332 [==============================] - 13s 4ms/step - loss: 0.8452 - categorical_accuracy: 0.6810 - val_loss: 1.6757 - val_categorical_accuracy: 0.4070\n",
            "\n",
            "Epoch 00023: val_categorical_accuracy did not improve from 0.48579\n",
            "Epoch 24/60\n",
            "3332/3332 [==============================] - 13s 4ms/step - loss: 0.9147 - categorical_accuracy: 0.6606 - val_loss: 1.4340 - val_categorical_accuracy: 0.4599\n",
            "\n",
            "Epoch 00024: val_categorical_accuracy did not improve from 0.48579\n",
            "Epoch 25/60\n",
            "3332/3332 [==============================] - 13s 4ms/step - loss: 0.7811 - categorical_accuracy: 0.7032 - val_loss: 1.3288 - val_categorical_accuracy: 0.5452\n",
            "\n",
            "Epoch 00025: val_categorical_accuracy improved from 0.48579 to 0.54522, saving model to best_model_1D_CNN.h5\n",
            "Epoch 26/60\n",
            "3332/3332 [==============================] - 13s 4ms/step - loss: 0.7058 - categorical_accuracy: 0.7359 - val_loss: 1.4305 - val_categorical_accuracy: 0.5271\n",
            "\n",
            "Epoch 00026: val_categorical_accuracy did not improve from 0.54522\n",
            "Epoch 27/60\n",
            "3332/3332 [==============================] - 13s 4ms/step - loss: 0.6735 - categorical_accuracy: 0.7425 - val_loss: 1.7457 - val_categorical_accuracy: 0.4961\n",
            "\n",
            "Epoch 00027: val_categorical_accuracy did not improve from 0.54522\n",
            "Epoch 28/60\n",
            "3332/3332 [==============================] - 13s 4ms/step - loss: 0.6212 - categorical_accuracy: 0.7677 - val_loss: 1.4440 - val_categorical_accuracy: 0.5452\n",
            "\n",
            "Epoch 00028: val_categorical_accuracy did not improve from 0.54522\n",
            "Epoch 29/60\n",
            "3332/3332 [==============================] - 13s 4ms/step - loss: 0.5918 - categorical_accuracy: 0.7770 - val_loss: 3.2011 - val_categorical_accuracy: 0.3966\n",
            "\n",
            "Epoch 00029: val_categorical_accuracy did not improve from 0.54522\n",
            "Epoch 30/60\n",
            "3332/3332 [==============================] - 13s 4ms/step - loss: 0.7211 - categorical_accuracy: 0.7482 - val_loss: 1.7094 - val_categorical_accuracy: 0.4664\n",
            "\n",
            "Epoch 00030: val_categorical_accuracy did not improve from 0.54522\n",
            "Epoch 31/60\n",
            "3332/3332 [==============================] - 13s 4ms/step - loss: 0.6068 - categorical_accuracy: 0.7767 - val_loss: 2.5164 - val_categorical_accuracy: 0.3708\n",
            "\n",
            "Epoch 00031: val_categorical_accuracy did not improve from 0.54522\n",
            "Epoch 32/60\n",
            "3332/3332 [==============================] - 13s 4ms/step - loss: 0.6509 - categorical_accuracy: 0.7524 - val_loss: 1.7751 - val_categorical_accuracy: 0.5000\n",
            "\n",
            "Epoch 00032: val_categorical_accuracy did not improve from 0.54522\n",
            "Epoch 33/60\n",
            "3332/3332 [==============================] - 13s 4ms/step - loss: 0.5933 - categorical_accuracy: 0.7836 - val_loss: 1.4790 - val_categorical_accuracy: 0.5297\n",
            "\n",
            "Epoch 00033: val_categorical_accuracy did not improve from 0.54522\n",
            "Epoch 34/60\n",
            "3332/3332 [==============================] - 13s 4ms/step - loss: 0.5158 - categorical_accuracy: 0.8088 - val_loss: 1.6331 - val_categorical_accuracy: 0.5452\n",
            "\n",
            "Epoch 00034: val_categorical_accuracy did not improve from 0.54522\n",
            "Epoch 35/60\n",
            "3332/3332 [==============================] - 13s 4ms/step - loss: 0.4860 - categorical_accuracy: 0.8247 - val_loss: 3.7079 - val_categorical_accuracy: 0.3618\n",
            "\n",
            "Epoch 00035: val_categorical_accuracy did not improve from 0.54522\n",
            "Epoch 36/60\n",
            "3332/3332 [==============================] - 13s 4ms/step - loss: 0.5033 - categorical_accuracy: 0.8142 - val_loss: 2.0473 - val_categorical_accuracy: 0.4780\n",
            "\n",
            "Epoch 00036: val_categorical_accuracy did not improve from 0.54522\n",
            "Epoch 37/60\n",
            "3332/3332 [==============================] - 13s 4ms/step - loss: 0.6676 - categorical_accuracy: 0.7728 - val_loss: 2.3735 - val_categorical_accuracy: 0.3928\n",
            "\n",
            "Epoch 00037: val_categorical_accuracy did not improve from 0.54522\n",
            "Epoch 38/60\n",
            "3332/3332 [==============================] - 13s 4ms/step - loss: 0.5748 - categorical_accuracy: 0.7890 - val_loss: 2.4416 - val_categorical_accuracy: 0.4522\n",
            "\n",
            "Epoch 00038: val_categorical_accuracy did not improve from 0.54522\n",
            "Epoch 39/60\n",
            "3332/3332 [==============================] - 13s 4ms/step - loss: 0.5640 - categorical_accuracy: 0.8037 - val_loss: 1.3986 - val_categorical_accuracy: 0.5349\n",
            "\n",
            "Epoch 00039: val_categorical_accuracy did not improve from 0.54522\n",
            "Epoch 40/60\n",
            "3332/3332 [==============================] - 13s 4ms/step - loss: 0.5070 - categorical_accuracy: 0.8142 - val_loss: 1.7792 - val_categorical_accuracy: 0.5129\n",
            "\n",
            "Epoch 00040: val_categorical_accuracy did not improve from 0.54522\n",
            "Epoch 41/60\n",
            "3332/3332 [==============================] - 13s 4ms/step - loss: 0.4997 - categorical_accuracy: 0.8223 - val_loss: 1.8299 - val_categorical_accuracy: 0.5413\n",
            "\n",
            "Epoch 00041: val_categorical_accuracy did not improve from 0.54522\n",
            "Epoch 42/60\n",
            "3332/3332 [==============================] - 13s 4ms/step - loss: 0.4257 - categorical_accuracy: 0.8397 - val_loss: 2.9155 - val_categorical_accuracy: 0.4315\n",
            "\n",
            "Epoch 00042: val_categorical_accuracy did not improve from 0.54522\n",
            "Epoch 43/60\n",
            "3332/3332 [==============================] - 13s 4ms/step - loss: 0.4628 - categorical_accuracy: 0.8199 - val_loss: 3.0821 - val_categorical_accuracy: 0.4031\n",
            "\n",
            "Epoch 00043: val_categorical_accuracy did not improve from 0.54522\n",
            "Epoch 44/60\n",
            "3332/3332 [==============================] - 13s 4ms/step - loss: 0.4031 - categorical_accuracy: 0.8556 - val_loss: 2.0172 - val_categorical_accuracy: 0.5362\n",
            "\n",
            "Epoch 00044: val_categorical_accuracy did not improve from 0.54522\n",
            "Epoch 45/60\n",
            "3332/3332 [==============================] - 13s 4ms/step - loss: 0.3574 - categorical_accuracy: 0.8697 - val_loss: 1.8160 - val_categorical_accuracy: 0.5633\n",
            "\n",
            "Epoch 00045: val_categorical_accuracy improved from 0.54522 to 0.56331, saving model to best_model_1D_CNN.h5\n",
            "Epoch 46/60\n",
            "3332/3332 [==============================] - 13s 4ms/step - loss: 0.3364 - categorical_accuracy: 0.8761 - val_loss: 3.5867 - val_categorical_accuracy: 0.4587\n",
            "\n",
            "Epoch 00046: val_categorical_accuracy did not improve from 0.56331\n",
            "Epoch 47/60\n",
            "3332/3332 [==============================] - 13s 4ms/step - loss: 0.4087 - categorical_accuracy: 0.8562 - val_loss: 1.6326 - val_categorical_accuracy: 0.5633\n",
            "\n",
            "Epoch 00047: val_categorical_accuracy did not improve from 0.56331\n",
            "Epoch 48/60\n",
            "3332/3332 [==============================] - 13s 4ms/step - loss: 0.3171 - categorical_accuracy: 0.8899 - val_loss: 1.7497 - val_categorical_accuracy: 0.5827\n",
            "\n",
            "Epoch 00048: val_categorical_accuracy improved from 0.56331 to 0.58269, saving model to best_model_1D_CNN.h5\n",
            "Epoch 49/60\n",
            "3332/3332 [==============================] - 13s 4ms/step - loss: 0.2579 - categorical_accuracy: 0.9067 - val_loss: 2.6856 - val_categorical_accuracy: 0.4483\n",
            "\n",
            "Epoch 00049: val_categorical_accuracy did not improve from 0.58269\n",
            "Epoch 50/60\n",
            "3332/3332 [==============================] - 13s 4ms/step - loss: 0.4101 - categorical_accuracy: 0.8523 - val_loss: 1.7105 - val_categorical_accuracy: 0.5478\n",
            "\n",
            "Epoch 00050: val_categorical_accuracy did not improve from 0.58269\n",
            "Epoch 51/60\n",
            "3332/3332 [==============================] - 13s 4ms/step - loss: 0.2732 - categorical_accuracy: 0.9004 - val_loss: 3.5523 - val_categorical_accuracy: 0.4289\n",
            "\n",
            "Epoch 00051: val_categorical_accuracy did not improve from 0.58269\n",
            "Epoch 52/60\n",
            "3332/3332 [==============================] - 13s 4ms/step - loss: 0.3769 - categorical_accuracy: 0.8649 - val_loss: 1.9741 - val_categorical_accuracy: 0.5349\n",
            "\n",
            "Epoch 00052: val_categorical_accuracy did not improve from 0.58269\n",
            "Epoch 53/60\n",
            "3332/3332 [==============================] - 13s 4ms/step - loss: 0.2538 - categorical_accuracy: 0.9109 - val_loss: 2.1037 - val_categorical_accuracy: 0.5426\n",
            "\n",
            "Epoch 00053: val_categorical_accuracy did not improve from 0.58269\n",
            "Epoch 54/60\n",
            "3332/3332 [==============================] - 13s 4ms/step - loss: 0.2395 - categorical_accuracy: 0.9139 - val_loss: 1.8469 - val_categorical_accuracy: 0.5956\n",
            "\n",
            "Epoch 00054: val_categorical_accuracy improved from 0.58269 to 0.59561, saving model to best_model_1D_CNN.h5\n",
            "Epoch 55/60\n",
            "3332/3332 [==============================] - 13s 4ms/step - loss: 0.2430 - categorical_accuracy: 0.9127 - val_loss: 1.8976 - val_categorical_accuracy: 0.5685\n",
            "\n",
            "Epoch 00055: val_categorical_accuracy did not improve from 0.59561\n",
            "Epoch 56/60\n",
            "3332/3332 [==============================] - 13s 4ms/step - loss: 0.2163 - categorical_accuracy: 0.9202 - val_loss: 1.8933 - val_categorical_accuracy: 0.6008\n",
            "\n",
            "Epoch 00056: val_categorical_accuracy improved from 0.59561 to 0.60078, saving model to best_model_1D_CNN.h5\n",
            "Epoch 57/60\n",
            "3332/3332 [==============================] - 13s 4ms/step - loss: 0.1813 - categorical_accuracy: 0.9364 - val_loss: 2.1400 - val_categorical_accuracy: 0.5775\n",
            "\n",
            "Epoch 00057: val_categorical_accuracy did not improve from 0.60078\n",
            "Epoch 58/60\n",
            "3332/3332 [==============================] - 13s 4ms/step - loss: 0.2422 - categorical_accuracy: 0.9199 - val_loss: 1.7748 - val_categorical_accuracy: 0.5930\n",
            "\n",
            "Epoch 00058: val_categorical_accuracy did not improve from 0.60078\n",
            "Epoch 59/60\n",
            "3332/3332 [==============================] - 13s 4ms/step - loss: 0.2451 - categorical_accuracy: 0.9076 - val_loss: 3.3182 - val_categorical_accuracy: 0.4406\n",
            "\n",
            "Epoch 00059: val_categorical_accuracy did not improve from 0.60078\n",
            "Epoch 60/60\n",
            "3332/3332 [==============================] - 13s 4ms/step - loss: 0.2270 - categorical_accuracy: 0.9193 - val_loss: 2.1727 - val_categorical_accuracy: 0.5749\n",
            "\n",
            "Epoch 00060: val_categorical_accuracy did not improve from 0.60078\n",
            "1069/1069 [==============================] - 2s 2ms/step\n",
            "[2.455195940522193, 0.6239476203918457]\n"
          ],
          "name": "stdout"
        }
      ]
    },
    {
      "cell_type": "code",
      "metadata": {
        "id": "L163jgtu6NvY",
        "colab_type": "code",
        "colab": {}
      },
      "source": [
        "# !gsutil -q -m cp \"best_model_1D_CNN.h5\" \"/content/drive/My Drive/Emotion Detection/Models/EMOVO_Urdu/MIX_8classes_1D_CNN_60%_1s.h5\""
      ],
      "execution_count": null,
      "outputs": []
    },
    {
      "cell_type": "markdown",
      "metadata": {
        "id": "Y66RrywTzODc",
        "colab_type": "text"
      },
      "source": [
        "# Italian and Urdu Dataset Testing"
      ]
    },
    {
      "cell_type": "markdown",
      "metadata": {
        "colab_type": "text",
        "id": "BszJmICdtYKl"
      },
      "source": [
        "## Italian and Urdu dataset Training and Testing"
      ]
    },
    {
      "cell_type": "code",
      "metadata": {
        "colab_type": "code",
        "id": "vmFc8aNptYKs",
        "colab": {
          "base_uri": "https://localhost:8080/",
          "height": 187
        },
        "outputId": "9803e27a-2a9e-40f9-80b9-f53605ba586a"
      },
      "source": [
        "# x_tr,y_tr,x_t,y_t,x_val,y_val = loadData1d(xd_tr,yd_tr,xd_t,yd_t,xd_val,yd_val)\t\n",
        "\n",
        "def test(model,x_t,y_t):\n",
        "\tsaved_model = model = load_model('/content/drive/My Drive/Emotion Detection/Models/EMOVO_Urdu/MIX_8classes_1D_CNN_62%_1s.h5')\n",
        "\tscore = saved_model.evaluate(x_t,y_t,batch_size=120)\n",
        "\tprint(score)\n",
        "\treturn score\n",
        "\n",
        "#test model\n",
        "print(\"Training\")\n",
        "score = test(model,x_tr,y_tr)\n",
        "acc1 = score[1]\n",
        "print(\"Validation\")\n",
        "score = test(model,x_val,y_val)\n",
        "acc2 = score[1]\n",
        "print(\"Testing\")\n",
        "score = test(model,x_t,y_t)\n",
        "acc3 = score[1]\n",
        "\n",
        "a1 = x_tr.shape[0]\n",
        "b1 = x_val.shape[0]\n",
        "c1 = x_t.shape[0]\n",
        "total = a1+b1+c1\n",
        "print('Overall accuracy =',(acc2*b1 + acc3*c1)/(b1+c1))"
      ],
      "execution_count": null,
      "outputs": [
        {
          "output_type": "stream",
          "text": [
            "Training\n",
            "3332/3332 [==============================] - 5s 2ms/step\n",
            "[0.039888284486239954, 0.9870948195457458]\n",
            "Validation\n",
            "774/774 [==============================] - 1s 2ms/step\n",
            "[2.7020740102427876, 0.6240310072898865]\n",
            "Testing\n",
            "1069/1069 [==============================] - 2s 2ms/step\n",
            "[2.455195940522193, 0.6239476203918457]\n",
            "Overall accuracy = 0.623982640174311\n"
          ],
          "name": "stdout"
        }
      ]
    },
    {
      "cell_type": "markdown",
      "metadata": {
        "colab_type": "text",
        "id": "Nkn7QjRPtYKy"
      },
      "source": [
        "## Italian and Urdu Dataset Training and German Dataset Testing"
      ]
    },
    {
      "cell_type": "code",
      "metadata": {
        "colab_type": "code",
        "id": "CkXG_plxtYKz",
        "colab": {
          "base_uri": "https://localhost:8080/",
          "height": 187
        },
        "outputId": "f625ce51-cb18-4183-fc83-81edad8cd9c1"
      },
      "source": [
        "xd_tr,yd_tr,xd_t,yd_t,xd_val,yd_val = xdg_tr,ydg_tr,xdg_t,ydg_t,xdg_val,ydg_val\n",
        "x_tr,y_tr,x_t,y_t,x_val,y_val = loadData1d(xd_tr,yd_tr,xd_t,yd_t,xd_val,yd_val)\t\n",
        "\n",
        "def test(model,x_t,y_t):\n",
        "\tsaved_model = model = load_model('/content/drive/My Drive/Emotion Detection/Models/EMOVO_Urdu/MIX_8classes_1D_CNN_62%_1s.h5')\n",
        "\tscore = saved_model.evaluate(x_t,y_t,batch_size=120)\n",
        "\tprint(score)\n",
        "\treturn score\n",
        "\n",
        "#test model\n",
        "print(\"Training\")\n",
        "score = test(model,x_tr,y_tr)\n",
        "acc1 = score[1]\n",
        "print(\"Validation\")\n",
        "score = test(model,x_val,y_val)\n",
        "acc2 = score[1]\n",
        "print(\"Testing\")\n",
        "score = test(model,x_t,y_t)\n",
        "acc3 = score[1]\n",
        "\n",
        "a1 = x_tr.shape[0]\n",
        "b1 = x_val.shape[0]\n",
        "c1 = x_t.shape[0]\n",
        "total = a1+b1+c1\n",
        "print('Overall accuracy =',(acc1*a1 + acc2*b1 + acc3*c1)/(total))"
      ],
      "execution_count": null,
      "outputs": [
        {
          "output_type": "stream",
          "text": [
            "Training\n",
            "1733/1733 [==============================] - 3s 2ms/step\n",
            "[4.71015308980507, 0.4223889112472534]\n",
            "Validation\n",
            "428/428 [==============================] - 1s 2ms/step\n",
            "[5.960807965180584, 0.37616822123527527]\n",
            "Testing\n",
            "549/549 [==============================] - 1s 2ms/step\n",
            "[5.5287887489860825, 0.3897996246814728]\n",
            "Overall accuracy = 0.40848707595214634\n"
          ],
          "name": "stdout"
        }
      ]
    },
    {
      "cell_type": "markdown",
      "metadata": {
        "colab_type": "text",
        "id": "Fx-NubTmtYK3"
      },
      "source": [
        "## Italian and Urdu Dataset Training and Urdu Dataset Testing"
      ]
    },
    {
      "cell_type": "code",
      "metadata": {
        "colab_type": "code",
        "id": "Mk33xDo7tYK4",
        "colab": {
          "base_uri": "https://localhost:8080/",
          "height": 187
        },
        "outputId": "50d0bc31-8a31-4ca8-a22a-53fd92c14b9f"
      },
      "source": [
        "xd_tr,yd_tr,xd_t,yd_t,xd_val,yd_val = xdu_tr,ydu_tr,xdu_t,ydu_t,xdu_val,ydu_val\n",
        "x_tr,y_tr,x_t,y_t,x_val,y_val = loadData1d(xd_tr,yd_tr,xd_t,yd_t,xd_val,yd_val)\t\n",
        "\n",
        "def test(model,x_t,y_t):\n",
        "\tsaved_model = model = load_model('/content/drive/My Drive/Emotion Detection/Models/EMOVO_Urdu/MIX_8classes_1D_CNN_62%_1s.h5')\n",
        "\tscore = saved_model.evaluate(x_t,y_t,batch_size=120)\n",
        "\tprint(score)\n",
        "\treturn score\n",
        "\n",
        "#test model\n",
        "print(\"Training\")\n",
        "score = test(model,x_tr,y_tr)\n",
        "acc1 = score[1]\n",
        "print(\"Validation\")\n",
        "score = test(model,x_val,y_val)\n",
        "acc2 = score[1]\n",
        "print(\"Testing\")\n",
        "score = test(model,x_t,y_t)\n",
        "acc3 = score[1]\n",
        "\n",
        "a1 = x_tr.shape[0]\n",
        "b1 = x_val.shape[0]\n",
        "c1 = x_t.shape[0]\n",
        "total = a1+b1+c1\n",
        "print('Overall accuracy =',( acc2*b1 + acc3*c1)/(b1+c1))"
      ],
      "execution_count": null,
      "outputs": [
        {
          "output_type": "stream",
          "text": [
            "Training\n",
            "1150/1150 [==============================] - 2s 2ms/step\n",
            "[0.12140697214914405, 0.9547826051712036]\n",
            "Validation\n",
            "270/270 [==============================] - 1s 2ms/step\n",
            "[0.9498520029915704, 0.770370364189148]\n",
            "Testing\n",
            "375/375 [==============================] - 1s 2ms/step\n",
            "[0.7206453883647919, 0.8026666641235352]\n",
            "Overall accuracy = 0.7891472827556522\n"
          ],
          "name": "stdout"
        }
      ]
    },
    {
      "cell_type": "markdown",
      "metadata": {
        "colab_type": "text",
        "id": "_slnSqX5tYLD"
      },
      "source": [
        "## Italian and Urdu Dataset Training and Italian Dataset Testing"
      ]
    },
    {
      "cell_type": "code",
      "metadata": {
        "colab_type": "code",
        "id": "ViUuzPGttYLE",
        "colab": {
          "base_uri": "https://localhost:8080/",
          "height": 187
        },
        "outputId": "0c5bda4c-848c-4cd0-871f-5443fb321097"
      },
      "source": [
        "xd_tr,yd_tr,xd_t,yd_t,xd_val,yd_val = xdi_tr,ydi_tr,xdi_t,ydi_t,xdi_val,ydi_val\n",
        "x_tr,y_tr,x_t,y_t,x_val,y_val = loadData1d(xd_tr,yd_tr,xd_t,yd_t,xd_val,yd_val)\t\n",
        "\n",
        "def test(model,x_t,y_t):\n",
        "\tsaved_model = model = load_model('/content/drive/My Drive/Emotion Detection/Models/EMOVO_Urdu/MIX_8classes_1D_CNN_62%_1s.h5')\n",
        "\tscore = saved_model.evaluate(x_t,y_t,batch_size=120)\n",
        "\tprint(score)\n",
        "\treturn score\n",
        "\n",
        "#test model\n",
        "print(\"Training\")\n",
        "score = test(model,x_tr,y_tr)\n",
        "acc1 = score[1]\n",
        "print(\"Validation\")\n",
        "score = test(model,x_val,y_val)\n",
        "acc2 = score[1]\n",
        "print(\"Testing\")\n",
        "score = test(model,x_t,y_t)\n",
        "acc3 = score[1]\n",
        "\n",
        "a1 = x_tr.shape[0]\n",
        "b1 = x_val.shape[0]\n",
        "c1 = x_t.shape[0]\n",
        "total = a1+b1+c1\n",
        "print('Overall accuracy =',( acc2*b1 + acc3*c1)/(b1+c1))"
      ],
      "execution_count": null,
      "outputs": [
        {
          "output_type": "stream",
          "text": [
            "Training\n",
            "2182/2182 [==============================] - 3s 2ms/step\n",
            "[0.052626368621283996, 0.9830430746078491]\n",
            "Validation\n",
            "504/504 [==============================] - 1s 2ms/step\n",
            "[3.2808949379693892, 0.567460298538208]\n",
            "Testing\n",
            "694/694 [==============================] - 1s 2ms/step\n",
            "[3.2405081578565262, 0.5201728940010071]\n",
            "Overall accuracy = 0.5400667603505473\n"
          ],
          "name": "stdout"
        }
      ]
    },
    {
      "cell_type": "markdown",
      "metadata": {
        "colab_type": "text",
        "id": "c-U-KsKVzXId"
      },
      "source": [
        "# German and Italian Dataset Testing"
      ]
    },
    {
      "cell_type": "markdown",
      "metadata": {
        "colab_type": "text",
        "id": "IxTkouDQhf8H"
      },
      "source": [
        "## German and Italian dataset Training and Testing"
      ]
    },
    {
      "cell_type": "code",
      "metadata": {
        "colab_type": "code",
        "id": "MsuhxqP4hf8N",
        "colab": {
          "base_uri": "https://localhost:8080/"
        },
        "outputId": "9f339c17-f34f-4935-b46f-39eaab1101a4"
      },
      "source": [
        "# x_tr,y_tr,x_t,y_t,x_val,y_val = loadData1d(xd_tr,yd_tr,xd_t,yd_t,xd_val,yd_val)\t\n",
        "\n",
        "def test(model,x_t,y_t):\n",
        "\tsaved_model = model = load_model('/content/drive/My Drive/Emotion Detection/Models/Emodb_EMOVO/MIX_8classes_1D_CNN_55%_1s.h5')\n",
        "\tscore = saved_model.evaluate(x_t,y_t,batch_size=120)\n",
        "\tprint(score)\n",
        "\treturn score\n",
        "\n",
        "#test model\n",
        "print(\"Training\")\n",
        "score = test(model,x_tr,y_tr)\n",
        "acc1 = score[1]\n",
        "print(\"Validation\")\n",
        "score = test(model,x_val,y_val)\n",
        "acc2 = score[1]\n",
        "print(\"Testing\")\n",
        "score = test(model,x_t,y_t)\n",
        "acc3 = score[1]\n",
        "\n",
        "a1 = x_tr.shape[0]\n",
        "b1 = x_val.shape[0]\n",
        "c1 = x_t.shape[0]\n",
        "total = a1+b1+c1\n",
        "print('Overall accuracy =',(acc2*b1 + acc3*c1)/(b1+c1))"
      ],
      "execution_count": null,
      "outputs": [
        {
          "output_type": "stream",
          "text": [
            "Training\n",
            "3915/3915 [==============================] - 6s 2ms/step\n",
            "[0.13897559178058216, 0.9532567262649536]\n",
            "Validation\n",
            "932/932 [==============================] - 2s 2ms/step\n",
            "[2.3402416644689863, 0.5568669438362122]\n",
            "Testing\n",
            "1243/1243 [==============================] - 2s 2ms/step\n",
            "[2.2041123540576004, 0.5462590456008911]\n",
            "Overall accuracy = 0.5508045909596586\n"
          ],
          "name": "stdout"
        }
      ]
    },
    {
      "cell_type": "markdown",
      "metadata": {
        "colab_type": "text",
        "id": "ZZaI6YRqhf8Y"
      },
      "source": [
        "## German and Italian Dataset Training and German Dataset Testing"
      ]
    },
    {
      "cell_type": "code",
      "metadata": {
        "colab_type": "code",
        "id": "cQfZE9Swhf8a",
        "colab": {
          "base_uri": "https://localhost:8080/"
        },
        "outputId": "bd199692-485b-4e7f-eaa7-ffecdcb2ce01"
      },
      "source": [
        "xd_tr,yd_tr,xd_t,yd_t,xd_val,yd_val = xdg_tr,ydg_tr,xdg_t,ydg_t,xdg_val,ydg_val\n",
        "x_tr,y_tr,x_t,y_t,x_val,y_val = loadData1d(xd_tr,yd_tr,xd_t,yd_t,xd_val,yd_val)\t\n",
        "\n",
        "def test(model,x_t,y_t):\n",
        "\tsaved_model = model = load_model('/content/drive/My Drive/Emotion Detection/Models/Emodb_EMOVO/MIX_8classes_1D_CNN_55%_1s.h5')\n",
        "\tscore = saved_model.evaluate(x_t,y_t,batch_size=120)\n",
        "\tprint(score)\n",
        "\treturn score\n",
        "\n",
        "#test model\n",
        "print(\"Training\")\n",
        "score = test(model,x_tr,y_tr)\n",
        "acc1 = score[1]\n",
        "print(\"Validation\")\n",
        "score = test(model,x_val,y_val)\n",
        "acc2 = score[1]\n",
        "print(\"Testing\")\n",
        "score = test(model,x_t,y_t)\n",
        "acc3 = score[1]\n",
        "\n",
        "a1 = x_tr.shape[0]\n",
        "b1 = x_val.shape[0]\n",
        "c1 = x_t.shape[0]\n",
        "total = a1+b1+c1\n",
        "print('Overall accuracy =',( acc2*b1 + acc3*c1)/(b1+c1))"
      ],
      "execution_count": null,
      "outputs": [
        {
          "output_type": "stream",
          "text": [
            "Training\n",
            "1733/1733 [==============================] - 3s 2ms/step\n",
            "[0.1501575883540265, 0.9492210149765015]\n",
            "Validation\n",
            "428/428 [==============================] - 1s 2ms/step\n",
            "[2.2489633404205893, 0.5887850522994995]\n",
            "Testing\n",
            "549/549 [==============================] - 1s 2ms/step\n",
            "[2.297510679953737, 0.5591985583305359]\n",
            "Overall accuracy = 0.5721596836311669\n"
          ],
          "name": "stdout"
        }
      ]
    },
    {
      "cell_type": "markdown",
      "metadata": {
        "colab_type": "text",
        "id": "vofh2EZjhf8h"
      },
      "source": [
        "## German and Italian Dataset Training and Urdu Dataset Testing"
      ]
    },
    {
      "cell_type": "code",
      "metadata": {
        "colab_type": "code",
        "id": "wwmSSC93hf8j",
        "colab": {
          "base_uri": "https://localhost:8080/"
        },
        "outputId": "3cf5cd91-cd19-4175-d50c-fd9836eef1c0"
      },
      "source": [
        "xd_tr,yd_tr,xd_t,yd_t,xd_val,yd_val = xdu_tr,ydu_tr,xdu_t,ydu_t,xdu_val,ydu_val\n",
        "x_tr,y_tr,x_t,y_t,x_val,y_val = loadData1d(xd_tr,yd_tr,xd_t,yd_t,xd_val,yd_val)\t\n",
        "\n",
        "def test(model,x_t,y_t):\n",
        "\tsaved_model = model = load_model('/content/drive/My Drive/Emotion Detection/Models/Emodb_EMOVO/MIX_8classes_1D_CNN_55%_1s.h5')\n",
        "\tscore = saved_model.evaluate(x_t,y_t,batch_size=120)\n",
        "\tprint(score)\n",
        "\treturn score\n",
        "\n",
        "#test model\n",
        "print(\"Training\")\n",
        "score = test(model,x_tr,y_tr)\n",
        "acc1 = score[1]\n",
        "print(\"Validation\")\n",
        "score = test(model,x_val,y_val)\n",
        "acc2 = score[1]\n",
        "print(\"Testing\")\n",
        "score = test(model,x_t,y_t)\n",
        "acc3 = score[1]\n",
        "\n",
        "a1 = x_tr.shape[0]\n",
        "b1 = x_val.shape[0]\n",
        "c1 = x_t.shape[0]\n",
        "total = a1+b1+c1\n",
        "print('Overall accuracy =',( acc2*b1 + acc3*c1)/(b1+c1))"
      ],
      "execution_count": null,
      "outputs": [
        {
          "output_type": "stream",
          "text": [
            "Training\n",
            "1150/1150 [==============================] - 2s 2ms/step\n",
            "[8.920750327732252, 0.18956521153450012]\n",
            "Validation\n",
            "270/270 [==============================] - 1s 2ms/step\n",
            "[9.087443616655138, 0.18518517911434174]\n",
            "Testing\n",
            "375/375 [==============================] - 1s 2ms/step\n",
            "[8.803935585021973, 0.20266667008399963]\n",
            "Overall accuracy = 0.1953488366548405\n"
          ],
          "name": "stdout"
        }
      ]
    },
    {
      "cell_type": "markdown",
      "metadata": {
        "colab_type": "text",
        "id": "S7v6RN5Fi7Ky"
      },
      "source": [
        "## German and Italian Dataset Training and Italian Dataset Testing"
      ]
    },
    {
      "cell_type": "code",
      "metadata": {
        "colab_type": "code",
        "id": "Qkz8mX7Si7K3",
        "colab": {
          "base_uri": "https://localhost:8080/",
          "height": 187
        },
        "outputId": "c98ed193-e509-4791-e7e0-815b9cbca07e"
      },
      "source": [
        "xd_tr,yd_tr,xd_t,yd_t,xd_val,yd_val = xdi_tr,ydi_tr,xdi_t,ydi_t,xdi_val,ydi_val\n",
        "x_tr,y_tr,x_t,y_t,x_val,y_val = loadData1d(xd_tr,yd_tr,xd_t,yd_t,xd_val,yd_val)\t\n",
        "\n",
        "def test(model,x_t,y_t):\n",
        "\tsaved_model = model = load_model('/content/drive/My Drive/Emotion Detection/Models/Emodb_EMOVO/MIX_8classes_1D_CNN_55%_1s.h5')\n",
        "\tscore = saved_model.evaluate(x_t,y_t,batch_size=120)\n",
        "\tprint(score)\n",
        "\treturn score\n",
        "\n",
        "#test model\n",
        "print(\"Training\")\n",
        "score = test(model,x_tr,y_tr)\n",
        "acc1 = score[1]\n",
        "print(\"Validation\")\n",
        "score = test(model,x_val,y_val)\n",
        "acc2 = score[1]\n",
        "print(\"Testing\")\n",
        "score = test(model,x_t,y_t)\n",
        "acc3 = score[1]\n",
        "\n",
        "a1 = x_tr.shape[0]\n",
        "b1 = x_val.shape[0]\n",
        "c1 = x_t.shape[0]\n",
        "total = a1+b1+c1\n",
        "print('Overall accuracy =',( acc2*b1 + acc3*c1)/(b1+c1))"
      ],
      "execution_count": null,
      "outputs": [
        {
          "output_type": "stream",
          "text": [
            "Training\n",
            "2182/2182 [==============================] - 3s 2ms/step\n",
            "[0.13009457523728815, 0.9564619660377502]\n",
            "Validation\n",
            "504/504 [==============================] - 1s 2ms/step\n",
            "[2.417756023861113, 0.5297619104385376]\n",
            "Testing\n",
            "694/694 [==============================] - 1s 2ms/step\n",
            "[2.130228182424386, 0.5360230803489685]\n",
            "Overall accuracy = 0.5333889988507572\n"
          ],
          "name": "stdout"
        }
      ]
    },
    {
      "cell_type": "markdown",
      "metadata": {
        "colab_type": "text",
        "id": "lPp2JNCDzcG8"
      },
      "source": [
        "# German and Urdu Dataset Testing"
      ]
    },
    {
      "cell_type": "markdown",
      "metadata": {
        "colab_type": "text",
        "id": "1Vm9idJSE6I7"
      },
      "source": [
        "## German and Urdu dataset Training and Testing"
      ]
    },
    {
      "cell_type": "code",
      "metadata": {
        "colab_type": "code",
        "id": "bSSi-VdPE6I_",
        "colab": {
          "base_uri": "https://localhost:8080/"
        },
        "outputId": "7e5ee9ed-c260-43c5-c0d9-ca514b9583c2"
      },
      "source": [
        "# x_tr,y_tr,x_t,y_t,x_val,y_val = loadData1d(xd_tr,yd_tr,xd_t,yd_t,xd_val,yd_val)\t\n",
        "\n",
        "def test(model,x_t,y_t):\n",
        "\tsaved_model = model = load_model('/content/drive/My Drive/Emotion Detection/Models/Urdu_Emodb/MIX_8classes_1D_CNN_74%_1s.h5')\n",
        "\tscore = saved_model.evaluate(x_t,y_t,batch_size=120)\n",
        "\tprint(score)\n",
        "\treturn score\n",
        "\n",
        "#test model\n",
        "print(\"Training\")\n",
        "score = test(model,x_tr,y_tr)\n",
        "acc1 = score[1]\n",
        "print(\"Validation\")\n",
        "score = test(model,x_val,y_val)\n",
        "acc2 = score[1]\n",
        "print(\"Testing\")\n",
        "score = test(model,x_t,y_t)\n",
        "acc3 = score[1]\n",
        "\n",
        "a1 = x_tr.shape[0]\n",
        "b1 = x_val.shape[0]\n",
        "c1 = x_t.shape[0]\n",
        "total = a1+b1+c1\n",
        "print('Overall accuracy =',(acc2*b1 + acc3*c1)/(b1+c1))"
      ],
      "execution_count": null,
      "outputs": [
        {
          "output_type": "stream",
          "text": [
            "Training\n",
            "2883/2883 [==============================] - 4s 2ms/step\n",
            "[0.005213904846750363, 0.9989594221115112]\n",
            "Validation\n",
            "698/698 [==============================] - 1s 2ms/step\n",
            "[1.8606714672892004, 0.7449856996536255]\n",
            "Testing\n",
            "924/924 [==============================] - 2s 2ms/step\n",
            "[1.7028328722173518, 0.7564935088157654]\n",
            "Overall accuracy = 0.7515413196695424\n"
          ],
          "name": "stdout"
        }
      ]
    },
    {
      "cell_type": "markdown",
      "metadata": {
        "colab_type": "text",
        "id": "hVwaZqGGFxcn"
      },
      "source": [
        "## German and Urdu Dataset Training and German Dataset Testing"
      ]
    },
    {
      "cell_type": "code",
      "metadata": {
        "colab_type": "code",
        "id": "_-lK9FUVFxcq",
        "colab": {
          "base_uri": "https://localhost:8080/"
        },
        "outputId": "2cbd25ea-d663-4f93-f5c2-d4ce981471ac"
      },
      "source": [
        "xd_tr,yd_tr,xd_t,yd_t,xd_val,yd_val = xdg_tr,ydg_tr,xdg_t,ydg_t,xdg_val,ydg_val\n",
        "x_tr,y_tr,x_t,y_t,x_val,y_val = loadData1d(xd_tr,yd_tr,xd_t,yd_t,xd_val,yd_val)\t\n",
        "\n",
        "def test(model,x_t,y_t):\n",
        "\tsaved_model = model = load_model('/content/drive/My Drive/Emotion Detection/Models/Urdu_Emodb/MIX_8classes_1D_CNN_74%_1s.h5')\n",
        "\tscore = saved_model.evaluate(x_t,y_t,batch_size=120)\n",
        "\tprint(score)\n",
        "\treturn score\n",
        "\n",
        "#test model\n",
        "print(\"Training\")\n",
        "score = test(model,x_tr,y_tr)\n",
        "acc1 = score[1]\n",
        "print(\"Validation\")\n",
        "score = test(model,x_val,y_val)\n",
        "acc2 = score[1]\n",
        "print(\"Testing\")\n",
        "score = test(model,x_t,y_t)\n",
        "acc3 = score[1]\n",
        "\n",
        "a1 = x_tr.shape[0]\n",
        "b1 = x_val.shape[0]\n",
        "c1 = x_t.shape[0]\n",
        "total = a1+b1+c1\n",
        "print('Overall accuracy =',( acc2*b1 + acc3*c1)/(b1+c1))"
      ],
      "execution_count": null,
      "outputs": [
        {
          "output_type": "stream",
          "text": [
            "Training\n",
            "1733/1733 [==============================] - 3s 2ms/step\n",
            "[0.004837741220514497, 0.9988459348678589]\n",
            "Validation\n",
            "428/428 [==============================] - 1s 2ms/step\n",
            "[2.2031035490125137, 0.6962617039680481]\n",
            "Testing\n",
            "549/549 [==============================] - 1s 2ms/step\n",
            "[2.173030522351708, 0.6794171333312988]\n",
            "Overall accuracy = 0.6867963311128021\n"
          ],
          "name": "stdout"
        }
      ]
    },
    {
      "cell_type": "markdown",
      "metadata": {
        "colab_type": "text",
        "id": "eKMXDtsUG0re"
      },
      "source": [
        "## German and Urdu Dataset Training and Urdu Dataset Testing"
      ]
    },
    {
      "cell_type": "code",
      "metadata": {
        "colab_type": "code",
        "id": "cSFq9pMWG0ri",
        "colab": {
          "base_uri": "https://localhost:8080/"
        },
        "outputId": "4dbe421f-4fec-4db7-9e4c-b980c9523a7a"
      },
      "source": [
        "xd_tr,yd_tr,xd_t,yd_t,xd_val,yd_val = xdu_tr,ydu_tr,xdu_t,ydu_t,xdu_val,ydu_val\n",
        "x_tr,y_tr,x_t,y_t,x_val,y_val = loadData1d(xd_tr,yd_tr,xd_t,yd_t,xd_val,yd_val)\t\n",
        "\n",
        "def test(model,x_t,y_t):\n",
        "\tsaved_model = model = load_model('/content/drive/My Drive/Emotion Detection/Models/Urdu_Emodb/MIX_8classes_1D_CNN_74%_1s.h5')\n",
        "\tscore = saved_model.evaluate(x_t,y_t,batch_size=120)\n",
        "\tprint(score)\n",
        "\treturn score\n",
        "\n",
        "#test model\n",
        "print(\"Training\")\n",
        "score = test(model,x_tr,y_tr)\n",
        "acc1 = score[1]\n",
        "print(\"Validation\")\n",
        "score = test(model,x_val,y_val)\n",
        "acc2 = score[1]\n",
        "print(\"Testing\")\n",
        "score = test(model,x_t,y_t)\n",
        "acc3 = score[1]\n",
        "\n",
        "a1 = x_tr.shape[0]\n",
        "b1 = x_val.shape[0]\n",
        "c1 = x_t.shape[0]\n",
        "total = a1+b1+c1\n",
        "print('Overall accuracy =',( acc2*b1 + acc3*c1)/(b1+c1))"
      ],
      "execution_count": null,
      "outputs": [
        {
          "output_type": "stream",
          "text": [
            "Training\n",
            "1150/1150 [==============================] - 2s 2ms/step\n",
            "[0.005780766351634393, 0.9991304278373718]\n",
            "Validation\n",
            "270/270 [==============================] - 1s 2ms/step\n",
            "[1.3178536891937256, 0.8222222328186035]\n",
            "Testing\n",
            "375/375 [==============================] - 1s 2ms/step\n",
            "[1.0144638389348983, 0.8693333268165588]\n",
            "Overall accuracy = 0.8496124037476473\n"
          ],
          "name": "stdout"
        }
      ]
    },
    {
      "cell_type": "markdown",
      "metadata": {
        "colab_type": "text",
        "id": "tFei4I2VHFr-"
      },
      "source": [
        "## German and Urdu Dataset Training and Emovo Dataset Testing"
      ]
    },
    {
      "cell_type": "code",
      "metadata": {
        "colab_type": "code",
        "id": "zOauEuIgHFsA",
        "colab": {
          "base_uri": "https://localhost:8080/"
        },
        "outputId": "fcfc01d2-f443-4eac-ff0f-4e2ed1bed3a7"
      },
      "source": [
        "xd_tr,yd_tr,xd_t,yd_t,xd_val,yd_val = xdi_tr,ydi_tr,xdi_t,ydi_t,xdi_val,ydi_val\n",
        "x_tr,y_tr,x_t,y_t,x_val,y_val = loadData1d(xd_tr,yd_tr,xd_t,yd_t,xd_val,yd_val)\t\n",
        "\n",
        "def test(model,x_t,y_t):\n",
        "\tsaved_model = model = load_model('/content/drive/My Drive/Emotion Detection/Models/Urdu_Emodb/MIX_8classes_1D_CNN_74%_1s.h5')\n",
        "\tscore = saved_model.evaluate(x_t,y_t,batch_size=120)\n",
        "\tprint(score)\n",
        "\treturn score\n",
        "\n",
        "#test model\n",
        "print(\"Training\")\n",
        "score = test(model,x_tr,y_tr)\n",
        "acc1 = score[1]\n",
        "print(\"Validation\")\n",
        "score = test(model,x_val,y_val)\n",
        "acc2 = score[1]\n",
        "print(\"Testing\")\n",
        "score = test(model,x_t,y_t)\n",
        "acc3 = score[1]\n",
        "\n",
        "a1 = x_tr.shape[0]\n",
        "b1 = x_val.shape[0]\n",
        "c1 = x_t.shape[0]\n",
        "total = a1+b1+c1\n",
        "print('Overall accuracy =',(acc1*a1 + acc2*b1 + acc3*c1)/(total))"
      ],
      "execution_count": null,
      "outputs": [
        {
          "output_type": "stream",
          "text": [
            "Training\n",
            "2182/2182 [==============================] - 3s 2ms/step\n",
            "[11.107094072836675, 0.18010999262332916]\n",
            "Validation\n",
            "504/504 [==============================] - 1s 2ms/step\n",
            "[10.607269832066127, 0.1865079402923584]\n",
            "Testing\n",
            "694/694 [==============================] - 1s 2ms/step\n",
            "[11.892435378918387, 0.1858789622783661]\n",
            "Overall accuracy = 0.1822485223765204\n"
          ],
          "name": "stdout"
        }
      ]
    },
    {
      "cell_type": "markdown",
      "metadata": {
        "colab_type": "text",
        "id": "LJzxS0rbzmMQ"
      },
      "source": [
        "# German, Italian and Urdu Dataset Testing"
      ]
    },
    {
      "cell_type": "markdown",
      "metadata": {
        "colab_type": "text",
        "id": "dGBvq6Lu3vc7"
      },
      "source": [
        "## Italian,German and Urdu dataset Training and Testing"
      ]
    },
    {
      "cell_type": "code",
      "metadata": {
        "colab_type": "code",
        "id": "MyOodN363vdA",
        "colab": {
          "base_uri": "https://localhost:8080/"
        },
        "outputId": "336d3b91-4869-4c12-bb58-a519d75ed7e4"
      },
      "source": [
        "# x_tr,y_tr,x_t,y_t,x_val,y_val = loadData1d(xd_tr,yd_tr,xd_t,yd_t,xd_val,yd_val)\t\n",
        "\n",
        "def test(model,x_t,y_t):\n",
        "\tsaved_model = model = load_model('/content/drive//My Drive/Emotion Detection/Models/EMOVO_URDU_EMODB/8classes_1D_CNN_65%_1s.h5')\n",
        "\tscore = saved_model.evaluate(x_t,y_t,batch_size=120)\n",
        "\tprint(score)\n",
        "\treturn score\n",
        "\n",
        "#test model\n",
        "print(\"Training\")\n",
        "score = test(model,x_tr,y_tr)\n",
        "acc1 = score[1]\n",
        "print(\"Validation\")\n",
        "score = test(model,x_val,y_val)\n",
        "acc2 = score[1]\n",
        "print(\"Testing\")\n",
        "score = test(model,x_t,y_t)\n",
        "acc3 = score[1]\n",
        "\n",
        "a1 = x_tr.shape[0]\n",
        "b1 = x_val.shape[0]\n",
        "c1 = x_t.shape[0]\n",
        "total = a1+b1+c1\n",
        "print('Overall accuracy =',(acc2*b1 + acc3*c1)/(b1+c1))"
      ],
      "execution_count": null,
      "outputs": [
        {
          "output_type": "stream",
          "text": [
            "Training\n",
            "5065/5065 [==============================] - 8s 2ms/step\n",
            "[0.015937080990310725, 0.9944718480110168]\n",
            "Validation\n",
            "1202/1202 [==============================] - 2s 2ms/step\n",
            "[2.643213455371571, 0.6572379469871521]\n",
            "Testing\n",
            "1618/1618 [==============================] - 3s 2ms/step\n",
            "[2.4399181983084848, 0.6545117497444153]\n",
            "Overall accuracy = 0.6556737671507166\n"
          ],
          "name": "stdout"
        }
      ]
    },
    {
      "cell_type": "markdown",
      "metadata": {
        "colab_type": "text",
        "id": "GKMjwhmhUboq"
      },
      "source": [
        "## Italian,German and Urdu Dataset Training and German Dataset Testing"
      ]
    },
    {
      "cell_type": "code",
      "metadata": {
        "colab_type": "code",
        "id": "3eiC3h8mUbot",
        "colab": {
          "base_uri": "https://localhost:8080/"
        },
        "outputId": "8a6b988f-6b2d-4939-9dd8-87db997688c4"
      },
      "source": [
        "xd_tr,yd_tr,xd_t,yd_t,xd_val,yd_val = xdg_tr,ydg_tr,xdg_t,ydg_t,xdg_val,ydg_val\n",
        "x_tr,y_tr,x_t,y_t,x_val,y_val = loadData1d(xd_tr,yd_tr,xd_t,yd_t,xd_val,yd_val)\t\n",
        "\n",
        "def test(model,x_t,y_t):\n",
        "\tsaved_model = model = load_model('/content/drive//My Drive/Emotion Detection/Models/EMOVO_URDU_EMODB/8classes_1D_CNN_65%_1s.h5')\n",
        "\tscore = saved_model.evaluate(x_t,y_t,batch_size=120)\n",
        "\tprint(score)\n",
        "\treturn score\n",
        "\n",
        "#test model\n",
        "print(\"Training\")\n",
        "score = test(model,x_tr,y_tr)\n",
        "acc1 = score[1]\n",
        "print(\"Validation\")\n",
        "score = test(model,x_val,y_val)\n",
        "acc2 = score[1]\n",
        "print(\"Testing\")\n",
        "score = test(model,x_t,y_t)\n",
        "acc3 = score[1]\n",
        "\n",
        "a1 = x_tr.shape[0]\n",
        "b1 = x_val.shape[0]\n",
        "c1 = x_t.shape[0]\n",
        "total = a1+b1+c1\n",
        "print('Overall accuracy =',( acc2*b1 + acc3*c1)/(b1+c1))"
      ],
      "execution_count": null,
      "outputs": [
        {
          "output_type": "stream",
          "text": [
            "Training\n",
            "1733/1733 [==============================] - 3s 2ms/step\n",
            "[0.002403312493722931, 0.9994229674339294]\n",
            "Validation\n",
            "428/428 [==============================] - 1s 2ms/step\n",
            "[1.9716128634515209, 0.7242990732192993]\n",
            "Testing\n",
            "549/549 [==============================] - 1s 2ms/step\n",
            "[2.751533870488568, 0.6502732038497925]\n",
            "Overall accuracy = 0.682702141506035\n"
          ],
          "name": "stdout"
        }
      ]
    },
    {
      "cell_type": "markdown",
      "metadata": {
        "colab_type": "text",
        "id": "Sv4y6HB86CDH"
      },
      "source": [
        "## Italian,German and Urdu Dataset Training and Urdu Dataset Testing"
      ]
    },
    {
      "cell_type": "code",
      "metadata": {
        "colab_type": "code",
        "id": "Pt4C-_-o6CDM",
        "colab": {
          "base_uri": "https://localhost:8080/"
        },
        "outputId": "6296e883-0797-40e3-858a-6be63fca3372"
      },
      "source": [
        "xd_tr,yd_tr,xd_t,yd_t,xd_val,yd_val = xdu_tr,ydu_tr,xdu_t,ydu_t,xdu_val,ydu_val\n",
        "x_tr,y_tr,x_t,y_t,x_val,y_val = loadData1d(xd_tr,yd_tr,xd_t,yd_t,xd_val,yd_val)\t\n",
        "\n",
        "def test(model,x_t,y_t):\n",
        "\tsaved_model = model = load_model('/content/drive//My Drive/Emotion Detection/Models/EMOVO_URDU_EMODB/8classes_1D_CNN_65%_1s.h5')\n",
        "\tscore = saved_model.evaluate(x_t,y_t,batch_size=120)\n",
        "\tprint(score)\n",
        "\treturn score\n",
        "\n",
        "#test model\n",
        "print(\"Training\")\n",
        "score = test(model,x_tr,y_tr)\n",
        "acc1 = score[1]\n",
        "print(\"Validation\")\n",
        "score = test(model,x_val,y_val)\n",
        "acc2 = score[1]\n",
        "print(\"Testing\")\n",
        "score = test(model,x_t,y_t)\n",
        "acc3 = score[1]\n",
        "\n",
        "a1 = x_tr.shape[0]\n",
        "b1 = x_val.shape[0]\n",
        "c1 = x_t.shape[0]\n",
        "total = a1+b1+c1\n",
        "print('Overall accuracy =',( acc2*b1 + acc3*c1)/(b1+c1))"
      ],
      "execution_count": null,
      "outputs": [
        {
          "output_type": "stream",
          "text": [
            "Training\n",
            "1150/1150 [==============================] - 2s 2ms/step\n",
            "[0.0033155426393141566, 0.9991304278373718]\n",
            "Validation\n",
            "270/270 [==============================] - 1s 2ms/step\n",
            "[1.579266733593411, 0.7851851582527161]\n",
            "Testing\n",
            "375/375 [==============================] - 1s 2ms/step\n",
            "[1.1094363713264466, 0.8293333053588867]\n",
            "Overall accuracy = 0.8108526856400246\n"
          ],
          "name": "stdout"
        }
      ]
    },
    {
      "cell_type": "markdown",
      "metadata": {
        "colab_type": "text",
        "id": "NckpsJkk6RiK"
      },
      "source": [
        "## Italian,German and Urdu Dataset Training and Emovo Dataset Testing"
      ]
    },
    {
      "cell_type": "code",
      "metadata": {
        "colab_type": "code",
        "id": "C4caOyh56RiN",
        "colab": {
          "base_uri": "https://localhost:8080/"
        },
        "outputId": "e1efa7d7-c07c-4437-82d9-55d12e7d78d3"
      },
      "source": [
        "xd_tr,yd_tr,xd_t,yd_t,xd_val,yd_val = xdi_tr,ydi_tr,xdi_t,ydi_t,xdi_val,ydi_val\n",
        "x_tr,y_tr,x_t,y_t,x_val,y_val = loadData1d(xd_tr,yd_tr,xd_t,yd_t,xd_val,yd_val)\t\n",
        "\n",
        "def test(model,x_t,y_t):\n",
        "\tsaved_model = model = load_model('/content/drive//My Drive/Emotion Detection/Models/EMOVO_URDU_EMODB/8classes_1D_CNN_65%_1s.h5')\n",
        "\tscore = saved_model.evaluate(x_t,y_t,batch_size=120)\n",
        "\tprint(score)\n",
        "\treturn score\n",
        "\n",
        "#test model\n",
        "print(\"Training\")\n",
        "score = test(model,x_tr,y_tr)\n",
        "acc1 = score[1]\n",
        "print(\"Validation\")\n",
        "score = test(model,x_val,y_val)\n",
        "acc2 = score[1]\n",
        "print(\"Testing\")\n",
        "score = test(model,x_t,y_t)\n",
        "acc3 = score[1]\n",
        "\n",
        "a1 = x_tr.shape[0]\n",
        "b1 = x_val.shape[0]\n",
        "c1 = x_t.shape[0]\n",
        "total = a1+b1+c1\n",
        "print('Overall accuracy =',(acc2*b1 + acc3*c1)/(b1+c1))"
      ],
      "execution_count": null,
      "outputs": [
        {
          "output_type": "stream",
          "text": [
            "Training\n",
            "2182/2182 [==============================] - 3s 2ms/step\n",
            "[0.03333799102224963, 0.9880843162536621]\n",
            "Validation\n",
            "504/504 [==============================] - 1s 2ms/step\n",
            "[3.783511990592593, 0.5317460298538208]\n",
            "Testing\n",
            "694/694 [==============================] - 1s 2ms/step\n",
            "[2.9123296813250277, 0.5634005665779114]\n",
            "Overall accuracy = 0.5500834659861403\n"
          ],
          "name": "stdout"
        }
      ]
    },
    {
      "cell_type": "markdown",
      "metadata": {
        "colab_type": "text",
        "id": "Mn9e1cR3zqyd"
      },
      "source": [
        "# Italian Dataset Testing"
      ]
    },
    {
      "cell_type": "markdown",
      "metadata": {
        "colab_type": "text",
        "id": "JlZwBAFVP_Vh"
      },
      "source": [
        "## Emovo(Italian) dataset Training and Testing"
      ]
    },
    {
      "cell_type": "code",
      "metadata": {
        "colab_type": "code",
        "id": "AVRELETdP_Vq",
        "colab": {
          "base_uri": "https://localhost:8080/"
        },
        "outputId": "bf4e13ef-2eb8-45b0-af89-b819c342555a"
      },
      "source": [
        "xd_tr,yd_tr,xd_t,yd_t,xd_val,yd_val = xdi_tr,ydi_tr,xdi_t,ydi_t,xdi_val,ydi_val\n",
        "x_tr,y_tr,x_t,y_t,x_val,y_val = loadData1d(xd_tr,yd_tr,xd_t,yd_t,xd_val,yd_val)\t\n",
        "\n",
        "def test(model,x_t,y_t):\n",
        "\tsaved_model = model = load_model('/content/drive//My Drive/Emotion Detection/Models/EMOVO/preTrained_MIX_8classes_1D_CNN_55%_1s.h5')\n",
        "\tscore = saved_model.evaluate(x_t,y_t,batch_size=120)\n",
        "\tprint(score)\n",
        "\treturn score\n",
        "\n",
        "#test model\n",
        "print(\"Training\")\n",
        "score = test(model,x_tr,y_tr)\n",
        "acc1 = score[1]\n",
        "print(\"Validation\")\n",
        "score = test(model,x_val,y_val)\n",
        "acc2 = score[1]\n",
        "print(\"Testing\")\n",
        "score = test(model,x_t,y_t)\n",
        "acc3 = score[1]\n",
        "\n",
        "a1 = x_tr.shape[0]\n",
        "b1 = x_val.shape[0]\n",
        "c1 = x_t.shape[0]\n",
        "total = a1+b1+c1\n",
        "print('Overall accuracy =',(acc2*b1 + acc3*c1)/(b1+c1))"
      ],
      "execution_count": null,
      "outputs": [
        {
          "output_type": "stream",
          "text": [
            "Training\n",
            "2182/2182 [==============================] - 3s 2ms/step\n",
            "[0.018905006071066485, 0.994958758354187]\n",
            "Validation\n",
            "504/504 [==============================] - 1s 2ms/step\n",
            "[3.4431617032913935, 0.557539701461792]\n",
            "Testing\n",
            "694/694 [==============================] - 1s 2ms/step\n",
            "[2.8414098233929286, 0.5706051588058472]\n",
            "Overall accuracy = 0.5651085056327221\n"
          ],
          "name": "stdout"
        }
      ]
    },
    {
      "cell_type": "markdown",
      "metadata": {
        "colab_type": "text",
        "id": "SQH0U1ZhUwVy"
      },
      "source": [
        "## EMOVO(Italian) Dataset Training and Urdu Dataset *Testing*"
      ]
    },
    {
      "cell_type": "code",
      "metadata": {
        "colab_type": "code",
        "id": "1aQUpsP7UwV1",
        "colab": {
          "base_uri": "https://localhost:8080/"
        },
        "outputId": "9f6cfe4d-836a-4d61-b4c3-0f1c843b2538"
      },
      "source": [
        "xd_tr,yd_tr,xd_t,yd_t,xd_val,yd_val = xdu_tr,ydu_tr,xdu_t,ydu_t,xdu_val,ydu_val\n",
        "x_tr,y_tr,x_t,y_t,x_val,y_val = loadData1d(xd_tr,yd_tr,xd_t,yd_t,xd_val,yd_val)\t\n",
        "\n",
        "def test(model,x_t,y_t):\n",
        "\tsaved_model = model = load_model('/content/drive//My Drive/Emotion Detection/Models/EMOVO/preTrained_MIX_8classes_1D_CNN_55%_1s.h5')\n",
        "\tscore = saved_model.evaluate(x_t,y_t,batch_size=120)\n",
        "\tprint(score)\n",
        "\treturn score\n",
        "\n",
        "#test model\n",
        "print(\"Training\")\n",
        "score = test(model,x_tr,y_tr)\n",
        "acc1 = score[1]\n",
        "print(\"Validation\")\n",
        "score = test(model,x_val,y_val)\n",
        "acc2 = score[1]\n",
        "print(\"Testing\")\n",
        "score = test(model,x_t,y_t)\n",
        "acc3 = score[1]\n",
        "\n",
        "a1 = x_tr.shape[0]\n",
        "b1 = x_val.shape[0]\n",
        "c1 = x_t.shape[0]\n",
        "total = a1+b1+c1\n",
        "print('Overall accuracy =',(acc1*a1 + acc2*b1 + acc3*c1)/(total))"
      ],
      "execution_count": null,
      "outputs": [
        {
          "output_type": "stream",
          "text": [
            "Training\n",
            "1150/1150 [==============================] - 2s 2ms/step\n",
            "[0.5749144756275675, 0.8860869407653809]\n",
            "Validation\n",
            "270/270 [==============================] - 1s 2ms/step\n",
            "[2.6736559867858887, 0.6888889074325562]\n",
            "Testing\n",
            "375/375 [==============================] - 1s 2ms/step\n",
            "[2.557734718322754, 0.6986666917800903]\n",
            "Overall accuracy = 0.8172701929273047\n"
          ],
          "name": "stdout"
        }
      ]
    },
    {
      "cell_type": "markdown",
      "metadata": {
        "colab_type": "text",
        "id": "wBCV081Y-Cfm"
      },
      "source": [
        "## EMOVO(Italian) Dataset Training and Emodb Dataset Testing"
      ]
    },
    {
      "cell_type": "code",
      "metadata": {
        "colab_type": "code",
        "id": "Iys5Pto8-Cft",
        "colab": {
          "base_uri": "https://localhost:8080/"
        },
        "outputId": "6c5000be-8eb6-4e55-902d-bb0f5accda93"
      },
      "source": [
        "xd_tr,yd_tr,xd_t,yd_t,xd_val,yd_val = xdg_tr,ydg_tr,xdg_t,ydg_t,xdg_val,ydg_val\n",
        "x_tr,y_tr,x_t,y_t,x_val,y_val = loadData1d(xd_tr,yd_tr,xd_t,yd_t,xd_val,yd_val)\t\n",
        "\n",
        "def test(model,x_t,y_t):\n",
        "\tsaved_model = model = load_model('/content/drive//My Drive/Emotion Detection/Models/EMOVO/preTrained_MIX_8classes_1D_CNN_55%_1s.h5')\n",
        "\tscore = saved_model.evaluate(x_t,y_t,batch_size=120)\n",
        "\tprint(score)\n",
        "\treturn score\n",
        "\n",
        "#test model\n",
        "print(\"Training\")\n",
        "score = test(model,x_tr,y_tr)\n",
        "acc1 = score[1]\n",
        "print(\"Validation\")\n",
        "score = test(model,x_val,y_val)\n",
        "acc2 = score[1]\n",
        "print(\"Testing\")\n",
        "score = test(model,x_t,y_t)\n",
        "acc3 = score[1]\n",
        "\n",
        "a1 = x_tr.shape[0]\n",
        "b1 = x_val.shape[0]\n",
        "c1 = x_t.shape[0]\n",
        "total = a1+b1+c1\n",
        "print('Overall accuracy =',(acc1*a1 + acc2*b1 + acc3*c1)/(total))"
      ],
      "execution_count": null,
      "outputs": [
        {
          "output_type": "stream",
          "text": [
            "Training\n",
            "1733/1733 [==============================] - 3s 2ms/step\n",
            "[0.21030963509329054, 0.9417195320129395]\n",
            "Validation\n",
            "428/428 [==============================] - 1s 2ms/step\n",
            "[2.628302157482254, 0.6355140209197998]\n",
            "Testing\n",
            "549/549 [==============================] - 1s 2ms/step\n",
            "[3.3902886421954044, 0.5883424282073975]\n",
            "Overall accuracy = 0.821771196685594\n"
          ],
          "name": "stdout"
        }
      ]
    },
    {
      "cell_type": "markdown",
      "metadata": {
        "colab_type": "text",
        "id": "xhMnL4juzu1p"
      },
      "source": [
        "# Urdu Dataset Testing"
      ]
    },
    {
      "cell_type": "markdown",
      "metadata": {
        "colab_type": "text",
        "id": "DWDwsxVUEKJE"
      },
      "source": [
        "## Urdu dataset Training and Testing"
      ]
    },
    {
      "cell_type": "code",
      "metadata": {
        "colab_type": "code",
        "id": "3WChAU9UEKJI",
        "colab": {
          "base_uri": "https://localhost:8080/",
          "height": 187
        },
        "outputId": "18757497-5d56-4d17-c28c-3894e5591f9a"
      },
      "source": [
        "# model = load_model('best_model_1D_CNN.h5')\n",
        "# x_tr,y_tr,x_t,y_t,x_val,y_val = loadData1d(xd_tr,yd_tr,xd_t,yd_t,xd_val,yd_val)\t\n",
        "\n",
        "def test(model,x_t,y_t):\n",
        "\tsaved_model = model = load_model('/content/drive//My Drive/Emotion Detection/Models/Urdu_Dataset/Urdu_8classes_1D_CNN_85%_1s.h5')\n",
        "\tscore = saved_model.evaluate(x_t,y_t,batch_size=120)\n",
        "\tprint(score)\n",
        "\treturn score\n",
        "\n",
        "#test model\n",
        "print(\"Training\")\n",
        "score = test(model,x_tr,y_tr)\n",
        "acc1 = score[1]\n",
        "print(\"Validation\")\n",
        "score = test(model,x_val,y_val)\n",
        "acc2 = score[1]\n",
        "print(\"Testing\")\n",
        "score = test(model,x_t,y_t)\n",
        "acc3 = score[1]\n",
        "\n",
        "a1 = x_tr.shape[0]\n",
        "b1 = x_val.shape[0]\n",
        "c1 = x_t.shape[0]\n",
        "total = a1+b1+c1\n",
        "print('Overall accuracy =',(acc2*b1 + acc3*c1)/(b1+c1))"
      ],
      "execution_count": null,
      "outputs": [
        {
          "output_type": "stream",
          "text": [
            "Training\n",
            "1159/1159 [==============================] - 2s 2ms/step\n",
            "[0.0989914628145919, 0.9680759310722351]\n",
            "Validation\n",
            "270/270 [==============================] - 1s 2ms/step\n",
            "[0.66096782622238, 0.8518518805503845]\n",
            "Testing\n",
            "366/366 [==============================] - 1s 2ms/step\n",
            "[0.42507086535457705, 0.8579235076904297]\n",
            "Overall accuracy = 0.8553459301309766\n"
          ],
          "name": "stdout"
        }
      ]
    },
    {
      "cell_type": "markdown",
      "metadata": {
        "colab_type": "text",
        "id": "7jshMjhVGxPj"
      },
      "source": [
        "## Urdu Dataset Training and Berlin Dataset Testing"
      ]
    },
    {
      "cell_type": "code",
      "metadata": {
        "colab_type": "code",
        "id": "Qv0JT-EhGxPn",
        "colab": {
          "base_uri": "https://localhost:8080/",
          "height": 187
        },
        "outputId": "399cdefc-8f2b-4e89-b024-a739da267081"
      },
      "source": [
        "xd_tr,yd_tr,xd_t,yd_t,xd_val,yd_val = xdg_tr,ydg_tr,xdg_t,ydg_t,xdg_val,ydg_val\n",
        "x_tr,y_tr,x_t,y_t,x_val,y_val = loadData1d(xd_tr,yd_tr,xd_t,yd_t,xd_val,yd_val)\t\n",
        "\n",
        "def test(model,x_t,y_t):\n",
        "\tsaved_model = model = load_model('/content/drive//My Drive/Emotion Detection/Models/Urdu_Dataset/Urdu_8classes_1D_CNN_85%_1s.h5')\n",
        "\tscore = saved_model.evaluate(x_t,y_t,batch_size=120)\n",
        "\tprint(score)\n",
        "\treturn score\n",
        "\n",
        "#test model\n",
        "print(\"Training\")\n",
        "score = test(model,x_tr,y_tr)\n",
        "acc1 = score[1]\n",
        "print(\"Validation\")\n",
        "score = test(model,x_val,y_val)\n",
        "acc2 = score[1]\n",
        "print(\"Testing\")\n",
        "score = test(model,x_t,y_t)\n",
        "acc3 = score[1]\n",
        "\n",
        "a1 = x_tr.shape[0]\n",
        "b1 = x_val.shape[0]\n",
        "c1 = x_t.shape[0]\n",
        "total = a1+b1+c1\n",
        "print('Overall accuracy =',(acc1*a1 + acc2*b1 + acc3*c1)/(total))"
      ],
      "execution_count": null,
      "outputs": [
        {
          "output_type": "stream",
          "text": [
            "Training\n",
            "1748/1748 [==============================] - 3s 2ms/step\n",
            "[8.503640713899031, 0.21567505598068237]\n",
            "Validation\n",
            "426/426 [==============================] - 1s 2ms/step\n",
            "[8.160300946571457, 0.23239436745643616]\n",
            "Testing\n",
            "536/536 [==============================] - 1s 2ms/step\n",
            "[8.099775278746192, 0.222014918923378]\n",
            "Overall accuracy = 0.21955719370243734\n"
          ],
          "name": "stdout"
        }
      ]
    },
    {
      "cell_type": "markdown",
      "metadata": {
        "colab_type": "text",
        "id": "9a71CTQWTbde"
      },
      "source": [
        "## Urdu Dataset Training and EMOVO Dataset Testing"
      ]
    },
    {
      "cell_type": "code",
      "metadata": {
        "colab_type": "code",
        "id": "ByK_LaHATbdj",
        "colab": {
          "base_uri": "https://localhost:8080/",
          "height": 187
        },
        "outputId": "72812ac5-d544-463b-d62f-b9d5ebd3477f"
      },
      "source": [
        "# xd_tr,yd_tr,xd_t,yd_t,xd_val,yd_val = xdi_tr,ydi_tr,xdi_t,ydi_t,xdi_val,ydi_val\n",
        "# x_tr,y_tr,x_t,y_t,x_val,y_val = loadData1d(xd_tr,yd_tr,xd_t,yd_t,xd_val,yd_val)\t\n",
        "\n",
        "def test(model,x_t,y_t):\n",
        "\tsaved_model = model = load_model('/content/drive//My Drive/Emotion Detection/Models/Urdu_Dataset/Urdu_8classes_1D_CNN_85%_1s.h5')\n",
        "\tscore = saved_model.evaluate(x_t,y_t,batch_size=120)\n",
        "\tprint(score)\n",
        "\treturn score\n",
        "\n",
        "#test model\n",
        "print(\"Training\")\n",
        "score = test(model,x_tr,y_tr)\n",
        "acc1 = score[1]\n",
        "print(\"Validation\")\n",
        "score = test(model,x_val,y_val)\n",
        "acc2 = score[1]\n",
        "print(\"Testing\")\n",
        "score = test(model,x_t,y_t)\n",
        "acc3 = score[1]\n",
        "\n",
        "a1 = x_tr.shape[0]\n",
        "b1 = x_val.shape[0]\n",
        "c1 = x_t.shape[0]\n",
        "total = a1+b1+c1\n",
        "print('Overall accuracy =',(acc1*a1 + acc2*b1 + acc3*c1)/(total))"
      ],
      "execution_count": null,
      "outputs": [
        {
          "output_type": "stream",
          "text": [
            "Training\n",
            "2206/2206 [==============================] - 3s 2ms/step\n",
            "[10.079037068869347, 0.15548503398895264]\n",
            "Validation\n",
            "512/512 [==============================] - 1s 2ms/step\n",
            "[9.78446738421917, 0.193359375]\n",
            "Testing\n",
            "662/662 [==============================] - 1s 2ms/step\n",
            "[9.973932488087081, 0.16314199566841125]\n",
            "Overall accuracy = 0.16272188938228335\n"
          ],
          "name": "stdout"
        }
      ]
    },
    {
      "cell_type": "markdown",
      "metadata": {
        "colab_type": "text",
        "id": "DlH4_fOZzycS"
      },
      "source": [
        "# German Dataset Testing"
      ]
    },
    {
      "cell_type": "markdown",
      "metadata": {
        "id": "TY2cEC7m7kHm",
        "colab_type": "text"
      },
      "source": [
        "## German dataset Training and Testing"
      ]
    },
    {
      "cell_type": "code",
      "metadata": {
        "id": "TtR6hctiulme",
        "colab_type": "code",
        "colab": {
          "base_uri": "https://localhost:8080/",
          "height": 187
        },
        "outputId": "e3567f23-cb98-472b-a507-684a3b17c828"
      },
      "source": [
        "# x_tr,y_tr,x_t,y_t,x_val,y_val = loadData1d(xd_tr,yd_tr,xd_t,yd_t,xd_val,yd_val)\t\n",
        "\n",
        "def test(model,x_t,y_t):\n",
        "\tsaved_model = model = load_model('/content/drive//My Drive/Emotion Detection/Models/Emodb/Emodb_8classes_1D_CNN_68%_1s.h5')\n",
        "\tscore = saved_model.evaluate(x_t,y_t,batch_size=120)\n",
        "\tprint(score)\n",
        "\treturn score\n",
        "\n",
        "#test model\n",
        "print(\"Training\")\n",
        "score = test(model,x_tr,y_tr)\n",
        "acc1 = score[1]\n",
        "print(\"Validation\")\n",
        "score = test(model,x_val,y_val)\n",
        "acc2 = score[1]\n",
        "print(\"Testing\")\n",
        "score = test(model,x_t,y_t)\n",
        "acc3 = score[1]\n",
        "\n",
        "a1 = x_tr.shape[0]\n",
        "b1 = x_val.shape[0]\n",
        "c1 = x_t.shape[0]\n",
        "total = a1+b1+c1\n",
        "print('Overall accuracy =',(acc2*b1 + acc3*c1)/(b1+c1))"
      ],
      "execution_count": null,
      "outputs": [
        {
          "output_type": "stream",
          "text": [
            "Training\n",
            "1748/1748 [==============================] - 3s 2ms/step\n",
            "[0.06346781342982973, 0.9788329601287842]\n",
            "Validation\n",
            "426/426 [==============================] - 1s 2ms/step\n",
            "[1.851806019393491, 0.6737089157104492]\n",
            "Testing\n",
            "536/536 [==============================] - 1s 2ms/step\n",
            "[1.593299764305798, 0.7052238583564758]\n",
            "Overall accuracy = 0.6912681768936824\n"
          ],
          "name": "stdout"
        }
      ]
    },
    {
      "cell_type": "markdown",
      "metadata": {
        "id": "Pq0x4-9l-8TH",
        "colab_type": "text"
      },
      "source": [
        "## German Dataset Training and Urdu Dataset Testing"
      ]
    },
    {
      "cell_type": "code",
      "metadata": {
        "id": "MEx1yCxO8kyj",
        "colab_type": "code",
        "colab": {
          "base_uri": "https://localhost:8080/",
          "height": 187
        },
        "outputId": "78f8b2df-8533-4783-b234-e98923913c4a"
      },
      "source": [
        "xd_tr,yd_tr,xd_t,yd_t,xd_val,yd_val = xdu_tr,ydu_tr,xdu_t,ydu_t,xdu_val,ydu_val\n",
        "x_tr,y_tr,x_t,y_t,x_val,y_val = loadData1d(xd_tr,yd_tr,xd_t,yd_t,xd_val,yd_val)\t\n",
        "\n",
        "def test(model,x_t,y_t):\n",
        "\tsaved_model = model = load_model('/content/drive//My Drive/Emotion Detection/Models/Emodb/Emodb_8classes_1D_CNN_68%_1s.h5')\n",
        "\tscore = saved_model.evaluate(x_t,y_t,batch_size=120)\n",
        "\tprint(score)\n",
        "\treturn score\n",
        "\n",
        "#test model\n",
        "print(\"Training\")\n",
        "score = test(model,x_tr,y_tr)\n",
        "acc1 = score[1]\n",
        "print(\"Validation\")\n",
        "score = test(model,x_val,y_val)\n",
        "acc2 = score[1]\n",
        "print(\"Testing\")\n",
        "score = test(model,x_t,y_t)\n",
        "acc3 = score[1]\n",
        "\n",
        "a1 = x_tr.shape[0]\n",
        "b1 = x_val.shape[0]\n",
        "c1 = x_t.shape[0]\n",
        "total = a1+b1+c1\n",
        "print('Overall accuracy =',(acc1*a1 + acc2*b1 + acc3*c1)/(total))"
      ],
      "execution_count": null,
      "outputs": [
        {
          "output_type": "stream",
          "text": [
            "Training\n",
            "1159/1159 [==============================] - 2s 2ms/step\n",
            "[11.857266340510819, 0.22864538431167603]\n",
            "Validation\n",
            "270/270 [==============================] - 1s 2ms/step\n",
            "[12.775508138868544, 0.22592592239379883]\n",
            "Testing\n",
            "366/366 [==============================] - 1s 2ms/step\n",
            "[11.653262766902564, 0.24590164422988892]\n",
            "Overall accuracy = 0.2317548753491351\n"
          ],
          "name": "stdout"
        }
      ]
    },
    {
      "cell_type": "markdown",
      "metadata": {
        "colab_type": "text",
        "id": "KACVNaY6T845"
      },
      "source": [
        "## German Dataset Training and EMOVO Dataset Testing"
      ]
    },
    {
      "cell_type": "code",
      "metadata": {
        "colab_type": "code",
        "id": "vlV2fjeYT849",
        "colab": {
          "base_uri": "https://localhost:8080/",
          "height": 187
        },
        "outputId": "81042f06-4482-4944-a229-6804607c9344"
      },
      "source": [
        "xd_tr,yd_tr,xd_t,yd_t,xd_val,yd_val = xdi_tr,ydi_tr,xdi_t,ydi_t,xdi_val,ydi_val\n",
        "x_tr,y_tr,x_t,y_t,x_val,y_val = loadData1d(xd_tr,yd_tr,xd_t,yd_t,xd_val,yd_val)\t\n",
        "\n",
        "def test(model,x_t,y_t):\n",
        "\tsaved_model = model = load_model('/content/drive//My Drive/Emotion Detection/Models/Emodb/Emodb_8classes_1D_CNN_68%_1s.h5')\n",
        "\tscore = saved_model.evaluate(x_t,y_t,batch_size=120)\n",
        "\tprint(score)\n",
        "\treturn score\n",
        "\n",
        "#test model\n",
        "print(\"Training\")\n",
        "score = test(model,x_tr,y_tr)\n",
        "acc1 = score[1]\n",
        "print(\"Validation\")\n",
        "score = test(model,x_val,y_val)\n",
        "acc2 = score[1]\n",
        "print(\"Testing\")\n",
        "score = test(model,x_t,y_t)\n",
        "acc3 = score[1]\n",
        "\n",
        "a1 = x_tr.shape[0]\n",
        "b1 = x_val.shape[0]\n",
        "c1 = x_t.shape[0]\n",
        "total = a1+b1+c1\n",
        "print('Overall accuracy =',(acc1*a1 + acc2*b1 + acc3*c1)/(total))"
      ],
      "execution_count": null,
      "outputs": [
        {
          "output_type": "stream",
          "text": [
            "Training\n",
            "2206/2206 [==============================] - 3s 2ms/step\n",
            "[8.941031503115367, 0.15820489823818207]\n",
            "Validation\n",
            "512/512 [==============================] - 1s 2ms/step\n",
            "[9.822020545601845, 0.154296875]\n",
            "Testing\n",
            "662/662 [==============================] - 1s 2ms/step\n",
            "[9.349943878427373, 0.17673715949058533]\n",
            "Overall accuracy = 0.1612426050580465\n"
          ],
          "name": "stdout"
        }
      ]
    },
    {
      "cell_type": "markdown",
      "metadata": {
        "colab_type": "text",
        "id": "XAubA7ai4r5c"
      },
      "source": [
        "# 2D CNN and LSTM"
      ]
    },
    {
      "cell_type": "code",
      "metadata": {
        "colab_type": "code",
        "id": "-F26wiVj4r5h",
        "colab": {}
      },
      "source": [
        "# 2D cnn for SER\n",
        "\n",
        "pw = 2 # Pool Layer Window size\n",
        "\n",
        "def emo2d(input_shape, num_classes,args):\n",
        "\t\n",
        "\tmodel = Sequential(name='Emo2D')\n",
        "\tprint(\"Hey\",input_shape)\n",
        "\t# LFLB1\n",
        "\tmodel.add(Conv2D(filters = 64,kernel_size = 3,strides=1,padding='same',data_format='channels_last',input_shape=input_shape, kernel_regularizer=l2(0.01), bias_regularizer=l2(0.01)))\n",
        "\tmodel.add(BatchNormalization())\n",
        "\tmodel.add(Activation('elu'))\n",
        "\tmodel.add(MaxPooling2D(pool_size = (int(2*pw/2),int(2*pw/2)), strides = int(pw/2),data_format='channels_last'))\n",
        "\n",
        "\t#LFLB2\n",
        "\tmodel.add(Conv2D(filters=64, kernel_size = 3, strides=1,padding='same', kernel_regularizer=l2(0.01), bias_regularizer=l2(0.01)))\n",
        "\tmodel.add(BatchNormalization())\n",
        "\tmodel.add(Activation('elu'))\n",
        "\tmodel.add(MaxPooling2D(pool_size = (pw,pw), strides = pw,data_format='channels_last'))\n",
        "\n",
        "\t#LFLB3\n",
        "\tmodel.add(Conv2D(filters=128, kernel_size = 3, strides=1,padding='same', kernel_regularizer=l2(0.01), bias_regularizer=l2(0.01)))\n",
        "\tmodel.add(BatchNormalization())\n",
        "\tmodel.add(Activation('elu'))\n",
        "\tmodel.add(MaxPooling2D(pool_size = (pw,pw), strides = pw,data_format='channels_last',))\n",
        "\n",
        "\t# #LFLB4\n",
        "\tmodel.add(Conv2D(filters=128, kernel_size = 3, strides=1,padding='same', kernel_regularizer=l2(0.01), bias_regularizer=l2(0.01)))\n",
        "\tmodel.add(BatchNormalization())\n",
        "\tmodel.add(Activation('elu'))\n",
        "\tmodel.add(MaxPooling2D(pool_size = (pw,pw), strides = pw,data_format='channels_last'))\n",
        "\n",
        "\t# model.add(Flatten())\n",
        "\tmodel.add(Reshape((-1,1)))\n",
        "\n",
        "\t#LSTM\n",
        "\tmodel.add(LSTM(units=args.num_fc,return_sequences=False, kernel_regularizer=l2(0.01), recurrent_regularizer=l2(0.01), bias_regularizer=l2(0.01)))\n",
        "\t#FC\n",
        "\tmodel.add(Dense(units=100,activation='relu', kernel_regularizer=l2(0.01), bias_regularizer=l2(0.01)))\n",
        "\n",
        "\tmodel.add(Dense(units=num_classes,activation='softmax'))\n",
        "\n",
        "\t#Model compilation\t\n",
        "\topt = optimizers.SGD(lr = args.learning_rate, decay=args.decay, momentum=args.momentum, nesterov=True)\n",
        "\tmodel.compile(optimizer=opt,loss='categorical_crossentropy',metrics=['accuracy'])\n",
        "\t\n",
        "\treturn model\n",
        "\n",
        "def train(model,x_tr,y_tr,x_val,y_val,args):\n",
        "\t\n",
        "\tes = EarlyStopping(monitor='val_loss', mode='min', verbose=1, patience=30)\n",
        "\tmc = ModelCheckpoint('best_model_2D_CNN_4s.h5', monitor='val_accuracy', mode='max', verbose=1, save_best_only=True)\n",
        "\thistory = model.fit(x_tr,y_tr,epochs=args.num_epochs,batch_size=args.batch_size,validation_data=(x_val,y_val),callbacks=[es, mc])\n",
        "\treturn model\n",
        "\n",
        "def test(model,x_t,y_t):\n",
        "\n",
        "\tsaved_model = load_model('best_model_2D_CNN_4s.h5')\n",
        "\tscore = saved_model.evaluate(x_t,y_t,batch_size=120)\n",
        "\tprint(score)\n",
        "\treturn score\n",
        "\n",
        "def loadData2d(xd_tr,yd_tr,xd_t,yd_t,xd_val,yd_val):\n",
        "\n",
        "\tx_tr = []\n",
        "\tx_val = []\n",
        "\tx_t = []\n",
        "\n",
        "\tfor a in xd_tr:\n",
        "\t\tS = librosa.feature.melspectrogram(y=a, sr=sr)\n",
        "\t\tx_tr.append(librosa.power_to_db(S, ref=np.max))\n",
        "\t\n",
        "\tfor a in xd_val:\n",
        "\t\tS = librosa.feature.melspectrogram(y=a, sr=sr)\n",
        "\t\tx_val.append(librosa.power_to_db(S, ref=np.max))\n",
        "\tfor a in xd_t:\n",
        "\t\tS = librosa.feature.melspectrogram(y=a, sr=sr)\n",
        "\t\tx_t.append(librosa.power_to_db(S, ref=np.max))\n",
        "\n",
        "\tx_tr,x_t,x_val = np.array(x_tr),np.array(x_t),np.array(x_val)\n",
        "\n",
        "\tx_tr = x_tr.reshape(-1,x_tr.shape[1],x_tr.shape[2],1)\n",
        "\tx_t = x_t.reshape(-1,x_t.shape[1],x_t.shape[2],1)\n",
        "\tx_val = x_val.reshape(-1,x_val.shape[1],x_val.shape[2],1)\n",
        "\ty_tr = to_categorical(yd_tr)\n",
        "\ty_t = to_categorical(yd_t)\n",
        "\ty_val = to_categorical(yd_val)\n",
        "\treturn np.array(x_tr),y_tr,np.array(x_t),y_t,np.array(x_val),y_val\n",
        "\n",
        "class arguments(object):        \n",
        "\t\tdef __init__(self):\n",
        "\t\t\t\tself.num_fc = 256\n",
        "\t\t\t\tself.batch_size = 32\n",
        "\t\t\t\tself.num_epochs = 20 #best model will be saved before number of epochs reach this value\n",
        "\t\t\t\tself.learning_rate = 0.005\n",
        "\t\t\t\tself.decay = 1e-6\n",
        "\t\t\t\tself.momentum = 0.9\n",
        "\n",
        "#load data\t\n",
        "# x_tr,y_tr,x_t,y_t,x_val,y_val = loadData2d(xd_tr,yd_tr,xd_t,yd_t,xd_val,yd_val)\t\n",
        "\n",
        "print(x_tr.shape)\n",
        "print(x_val.shape)\n",
        "print(x_t.shape)\n",
        "\n",
        "args = arguments()\n",
        "\n",
        "#define model\n",
        "model = emo2d(input_shape=x_tr.shape[1:],num_classes=len(np.unique(np.argmax(y_tr, 1))),args=args)\n",
        "model.summary()\n",
        "\n",
        "#train model\n",
        "model = train(model,x_tr,y_tr,x_val,y_val,args=args)\n",
        "\n",
        "#test model\n",
        "score = test(model,x_t,y_t)\n"
      ],
      "execution_count": null,
      "outputs": []
    },
    {
      "cell_type": "code",
      "metadata": {
        "id": "RrCoMpQlXJjw",
        "colab_type": "code",
        "colab": {}
      },
      "source": [
        "0# !gsutil -q -m cp \"best_model_2D_CNN_8s_67%.h5\" \"/content/drive//My Drive/Emotion Detection/Models/Emodb\""
      ],
      "execution_count": null,
      "outputs": []
    },
    {
      "cell_type": "code",
      "metadata": {
        "id": "fXzHhHM0N7wA",
        "colab_type": "code",
        "colab": {
          "base_uri": "https://localhost:8080/",
          "height": 170
        },
        "outputId": "d41b6e84-8996-4df3-914f-f4a791de939b"
      },
      "source": [
        "# model = load_model('/content/drive//My Drive/Emotion Detection/best_model_2D_CNN_8s_67%.h5')\n",
        "\n",
        "def test(model,x_t,y_t):\n",
        "\n",
        "\tsaved_model = load_model('/content/drive//My Drive/Emotion Detection/Models/Emodb/best_model_2D_CNN_8s_67%.h5')\n",
        "\tscore = saved_model.evaluate(x_t,y_t,batch_size=128)\n",
        "\tprint(score)\n",
        "\treturn score\n",
        "\n",
        "#test model\n",
        "print(\"Training\")\n",
        "score = test(model,x_tr,y_tr)\n",
        "print(\"Validation\")\n",
        "score = test(model,x_val,y_val)\n",
        "print(\"Testing\")\n",
        "score = test(model,x_t,y_t)\n"
      ],
      "execution_count": null,
      "outputs": [
        {
          "output_type": "stream",
          "text": [
            "Training\n",
            "345/345 [==============================] - 1s 3ms/step\n",
            "[0.9619181715923807, 0.8231884241104126]\n",
            "Validation\n",
            "85/85 [==============================] - 0s 5ms/step\n",
            "[1.2091891765594482, 0.7882353067398071]\n",
            "Testing\n",
            "106/106 [==============================] - 0s 4ms/step\n",
            "[0.9688431620597839, 0.7547169923782349]\n"
          ],
          "name": "stdout"
        }
      ]
    },
    {
      "cell_type": "code",
      "metadata": {
        "id": "iBtuyzJ-O7ha",
        "colab_type": "code",
        "colab": {
          "base_uri": "https://localhost:8080/",
          "height": 170
        },
        "outputId": "8f4d4d79-3611-4d9f-f977-504a0b4891b8"
      },
      "source": [
        "def test(model,x_t,y_t):\n",
        "\n",
        "\tsaved_model = model = load_model('best_model_2D_CNN.h5')\n",
        "\tscore = saved_model.evaluate(x_t,y_t,batch_size=120)\n",
        "\tprint(score)\n",
        "\treturn score\n",
        "\n",
        "#test model\n",
        "print(\"Training\")\n",
        "score = test(model,x_tr,y_tr)\n",
        "print(\"Validation\")\n",
        "score = test(model,x_val,y_val)\n",
        "print(\"Testing\")\n",
        "score = test(model,x_t,y_t)\n"
      ],
      "execution_count": null,
      "outputs": [
        {
          "output_type": "stream",
          "text": [
            "Training\n",
            "345/345 [==============================] - 1s 2ms/step\n",
            "[1.1327433378800102, 0.7971014380455017]\n",
            "Validation\n",
            "85/85 [==============================] - 0s 3ms/step\n",
            "[1.7833393812179565, 0.5764706134796143]\n",
            "Testing\n",
            "106/106 [==============================] - 0s 3ms/step\n",
            "[1.8798648118972778, 0.5283018946647644]\n"
          ],
          "name": "stdout"
        }
      ]
    },
    {
      "cell_type": "code",
      "metadata": {
        "id": "77vFjwiRg1D5",
        "colab_type": "code",
        "colab": {
          "base_uri": "https://localhost:8080/",
          "height": 204
        },
        "outputId": "7de287e4-bb45-4fa8-a23c-7eaf99f8e62c"
      },
      "source": [
        "model = load_model('best_model_2D_CNN.h5')\n",
        "\n",
        "predict = np.argmax(np.array(model.predict(x_tr)),axis = 1)\n",
        "print(predict.reshape((-1,1)).shape)\n",
        "# print(predict)\n",
        "abc = np.array(yd_tr,dtype = np.dtype(np.int8))\n",
        "# print(abc)\n",
        "print(abc.reshape((-1,1)).shape)\n",
        "print(confusion_matrix(abc,predict))\n",
        "\n",
        "score = model.evaluate(x_tr,y_tr,batch_size=120)\n",
        "print(score)\n",
        "\n",
        "# print(\"Total Data {'W': 127, 'L': 81, 'E': 46, 'A': 69, 'F': 71, 'T': 62, 'N': 79}\")\n",
        "# print(\"Class: W train: 82 val: 20 test: 25\")\n",
        "# print(\"Class: L train: 52 val: 13 test: 16\")\n",
        "# print(\"Class: E train: 30 val: 7 test: 9\")\n",
        "# print(\"Class: A train: 44 val: 11 test: 14\")\n",
        "# print(\"Class: F train: 46 val: 11 test: 14\")\n",
        "# print(\"Class: T train: 40 val: 10 test: 12\")\n",
        "# print(\"Class: N train: 50 val: 13 test: 16\")\n"
      ],
      "execution_count": null,
      "outputs": [
        {
          "output_type": "stream",
          "text": [
            "(345, 1)\n",
            "(345, 1)\n",
            "[[ 0  0  1  7 74  0  0]\n",
            " [ 0 51  0  0  0  1  0]\n",
            " [ 0  0 25  2  0  0  3]\n",
            " [ 0  0  0 28  0  0 16]\n",
            " [ 0  0  0 46  0  0  0]\n",
            " [ 0 15  0  0  0 26  0]\n",
            " [ 0 15  0  0  0  0 35]]\n",
            "345/345 [==============================] - 1s 2ms/step\n",
            "[2.5316155371458633, 0.47826087474823]\n"
          ],
          "name": "stdout"
        }
      ]
    }
  ]
}